{
 "cells": [
  {
   "cell_type": "code",
   "execution_count": null,
   "id": "062e58a3-c400-4b83-a865-17249edec364",
   "metadata": {},
   "outputs": [
    {
     "name": "stdout",
     "output_type": "stream",
     "text": [
      "Using device: cuda\n"
     ]
    }
   ],
   "source": [
    "import os\n",
    "\n",
    "# Set the GPUs of the server\n",
    "import torch\n",
    "device = torch.device('cuda' if torch.cuda.is_available() else 'cpu')\n",
    "print('Using device:', device)\n",
    "# os.environ[\"CUDA_VISIBLE_DEVICES\"] = \"0,1,2\"  # for 3B\n",
    "os.environ[\"CUDA_VISIBLE_DEVICES\"] = \"0\"  # for 1B\n",
    "\n",
    "# Clean the environment\n",
    "import gc\n",
    "gc.collect()\n",
    "torch.cuda.empty_cache()"
   ]
  },
  {
   "cell_type": "code",
   "execution_count": null,
   "id": "56c5742e-3e82-491a-8fa5-90b613457b88",
   "metadata": {},
   "outputs": [],
   "source": [
    "# Import necessary libraries\n",
    "import torch\n",
    "import transformers\n",
    "from transformers import AutoTokenizer, AutoModelForCausalLM\n",
    "from transformers import BitsAndBytesConfig,LlamaTokenizer\n",
    "from huggingface_hub import notebook_login\n",
    "from datasets import load_dataset\n",
    "from peft import prepare_model_for_kbit_training\n",
    "from peft import LoraConfig, get_peft_model\n",
    "from datetime import datetime\n"
   ]
  },
  {
   "cell_type": "code",
   "execution_count": null,
   "id": "c62edad2-5e84-419b-a181-dc9deca7a7ef",
   "metadata": {},
   "outputs": [],
   "source": [
    "# Login to Hugging Face\n",
    "from huggingface_hub import login\n",
    "login(token='hf_**********************************')\n"
   ]
  },
  {
   "cell_type": "code",
   "execution_count": null,
   "id": "8ac3fdfd-43c1-4f48-854d-21bb9fb726ff",
   "metadata": {},
   "outputs": [],
   "source": [
    "base_model = \"meta-llama/Llama-3.2-1B\"\n",
    "new_model = \"newModel1B_QA\"\n",
    "\n",
    "torch_dtype = torch.float16\n",
    "attn_implementation = \"eager\""
   ]
  },
  {
   "cell_type": "code",
   "execution_count": 5,
   "id": "d2809a87-82b7-4ae6-8a8c-55d80f3d5a8a",
   "metadata": {},
   "outputs": [],
   "source": [
    "model = AutoModelForCausalLM.from_pretrained(\n",
    "    base_model,\n",
    "    device_map=\"auto\",\n",
    "    attn_implementation=attn_implementation,\n",
    ")\n"
   ]
  },
  {
   "cell_type": "code",
   "execution_count": null,
   "id": "10d7c21e-7a28-4e02-ac20-3693ef71bf97",
   "metadata": {},
   "outputs": [],
   "source": [
    "# Load the test data\n",
    "import json\n",
    "with open('/srv/data1/fuxiaoqin/Downloads/EngineeringReference1_5_TESTQAGPT4omini.json', 'r', encoding='utf-8') as file:  \n",
    "    json_obj = json.load(file)  \n",
    "\n",
    "data_instructions = []\n",
    "data_inputs = []\n",
    "data_outputs = []\n",
    "for piece in json_obj:\n",
    "    # print(\"piece\", piece['input'])\n",
    "    # data_chunkis.append(piece['chunki'])\n",
    "    data_instructions.append(piece['instruction'])\n",
    "    data_inputs.append(piece['input'])\n",
    "    data_outputs.append(piece['output'])\n",
    "\n"
   ]
  },
  {
   "cell_type": "code",
   "execution_count": 7,
   "id": "3cfd9194-6f29-4be8-b6a7-890baedc9474",
   "metadata": {},
   "outputs": [
    {
     "name": "stdout",
     "output_type": "stream",
     "text": [
      "17\n",
      "17\n",
      "17\n"
     ]
    }
   ],
   "source": [
    "print(len(data_instructions))\n",
    "print(len(data_inputs))\n",
    "print(len(data_outputs))\n",
    "# print(data_instructions)"
   ]
  },
  {
   "cell_type": "code",
   "execution_count": null,
   "id": "86019347-ffb6-412a-b4c4-b75db72a163d",
   "metadata": {},
   "outputs": [],
   "source": [
    "# Disable WandB\n",
    "#!{sys.executable} -m pip uninstall -q wandb\n",
    "import os\n",
    "os.environ[\"WANDB_DISABLED\"] = \"true\""
   ]
  },
  {
   "cell_type": "code",
   "execution_count": 9,
   "id": "39b7b294-7331-41ce-af34-9a1ba2b8d858",
   "metadata": {},
   "outputs": [
    {
     "name": "stderr",
     "output_type": "stream",
     "text": [
      "Using the `WANDB_DISABLED` environment variable is deprecated and will be removed in v5. Use the --report_to flag to control the integrations used for logging result (for instance --report_to none).\n",
      "The new embeddings will be initialized from a multivariate normal distribution that has old embeddings' mean and covariance. As described in this article: https://nlp.stanford.edu/~johnhew/vocab-expansion.html. To disable this, use `mean_resizing=False`\n"
     ]
    }
   ],
   "source": [
    "from trl import SFTTrainer, setup_chat_format\n",
    "# Load tokenizer\n",
    "tokenizer = AutoTokenizer.from_pretrained(base_model)\n",
    "model, tokenizer = setup_chat_format(model, tokenizer)"
   ]
  },
  {
   "cell_type": "code",
   "execution_count": null,
   "id": "d17ec7a6-7f1d-46f7-80d5-48a893020a1d",
   "metadata": {},
   "outputs": [],
   "source": [
    "# Get the answers from the model and tokenizer according to the question inputs\n",
    "def get_responses(data_inputs, model, tokenizer):\n",
    "    responses = []\n",
    "    for dp in data_inputs:\n",
    "    # for i in range(21,27):\n",
    "        # dp = data_inputs[i]\n",
    "        messages = [\n",
    "            {\n",
    "                \"role\": \"user\",\n",
    "                # \"content\": \"What is the climate of a building located in west Arizona? (In a sentence)\"\n",
    "                \"content\": dp + \" (In a sentence)\"\n",
    "            }\n",
    "        ]\n",
    "        \n",
    "        prompt = tokenizer.apply_chat_template(messages, tokenize=False,\n",
    "                                               add_generation_prompt=True)\n",
    "        \n",
    "        inputs = tokenizer(prompt, return_tensors='pt', padding=True,\n",
    "                           truncation=True).to(\"cuda\")\n",
    "        \n",
    "        outputs = model.generate(**inputs, max_length=150,\n",
    "                                 num_return_sequences=1)\n",
    "        \n",
    "        text = tokenizer.decode(outputs[0], skip_special_tokens=True)\n",
    "        #  print(text)\n",
    "        # print(text.split(\"assistant\"))\n",
    "        # print(dp +\" \"+text.split(\"assistant\")[1])\n",
    "        response = text.split(\"assistant\")[1].replace(\"\\n\",\"\").split(\", \")[0].split(\". \")[0].strip()+\".\"\n",
    "        responses.append(response)\n",
    "    return responses\n"
   ]
  },
  {
   "cell_type": "code",
   "execution_count": null,
   "id": "705026e2-a23c-411e-ae89-2046aa87639d",
   "metadata": {},
   "outputs": [
    {
     "name": "stdout",
     "output_type": "stream",
     "text": [
      "len(pretrained_responses) = 17\n"
     ]
    }
   ],
   "source": [
    "# Get the answers from the tokenizer and model base according to the question inputs\n",
    "pretrained_responses = get_responses(data_inputs, model, tokenizer)\n",
    "# print(\"pretrained_responses =\", pretrained_responses)\n",
    "print(\"len(pretrained_responses) =\", len(pretrained_responses))"
   ]
  },
  {
   "cell_type": "code",
   "execution_count": 12,
   "id": "265b24b3-42d6-4e90-acd8-83dfe57bd64f",
   "metadata": {},
   "outputs": [],
   "source": [
    "def save_results_csv(fileName, instructions, inputs, outputs, predictions):\n",
    "    min_len = 17 # min (len(instructions), len(inputs), len(outputs), len(predictions))\n",
    "    wf = open(fileName, 'w', encoding=\"utf8\")\n",
    "    wf.write(\"Instruction,Input,Output,Predicted\\n\")\n",
    "    for i in range(min_len):\n",
    "        wf.write(str(instructions[i])+','+str(inputs[i])+',\"'+str(outputs[i])+'\",\"'+str(predictions[i])+'\"\\n')\n",
    "    wf.close()\n"
   ]
  },
  {
   "cell_type": "code",
   "execution_count": null,
   "id": "7fcea778-ffbf-43ae-8f1a-d606e75e1eb5",
   "metadata": {},
   "outputs": [
    {
     "name": "stdout",
     "output_type": "stream",
     "text": [
      "len(references) 17\n"
     ]
    }
   ],
   "source": [
    "references = data_outputs\n",
    "print(\"len(references)\", len(references))\n",
    "# print(\"len(pretrained_responses)\", len(pretrained_responses))\n",
    "\n",
    "# Import the libraries related to the evaluation metrics\n",
    "from nltk.translate.bleu_score import sentence_bleu, SmoothingFunction\n",
    "from numpy import *\n",
    "from rouge import Rouge\n",
    "from bert_score import score\n",
    "\n",
    "def compute_bleu(reference, hypothesis):\n",
    "    reference = [reference.split()]\n",
    "    hypothesis = hypothesis.split()\n",
    "    smoothie = SmoothingFunction().method4\n",
    "    return sentence_bleu(reference, hypothesis, smoothing_function=smoothie)\n",
    "\n",
    "def save_metrics_csv(fileName, modelName, bleus, rouge1, rouge2, rouge3, b_r, b_p, b_f):\n",
    "    bleu = mean(bleus)\n",
    "    r1_r=rouge1['r']\n",
    "    r1_p=rouge1['p']\n",
    "    r1_f=rouge1['f']\n",
    "    r2_r=rouge2['r']\n",
    "    r2_p=rouge2['p']\n",
    "    r2_f=rouge2['f']\n",
    "    r3_r=rouge3['r']\n",
    "    r3_p=rouge3['p']\n",
    "    r3_f=rouge3['f']    \n",
    "    b_r = str(b_r).replace(\"tensor(\",\"\").replace(\")\",\"\")\n",
    "    b_p = str(b_p).replace(\"tensor(\",\"\").replace(\")\",\"\")\n",
    "    b_f = str(b_f).replace(\"tensor(\",\"\").replace(\")\",\"\")\n",
    "    # if os.path.exists(fileName):\n",
    "    #     r = open(fileName, 'a', encoding=\"utf8\")\n",
    "    #     r.write(str(modelName)+\",\"+str(bleu)+\",\"+str(r1_r)+\",\"+str(r1_p)+\",\"+str(r1_f)+\",\"+str(r2_r)+\",\"+str(r2_p)+\",\"+str(r2_f)+\",\"+str(r3_r)+\",\"+str(r3_p)+\",\"+str(r3_f)+\",\"+str(b_r)+\",\"+str(b_p)+\",\"+str(b_f)+\",\\n\")\n",
    "    #     r.close()\n",
    "    # else:\n",
    "    r = open(fileName, 'w', encoding=\"utf8\")\n",
    "    r.write(\"Training,BLEU,ROUGE-1,,,ROUGE-2,,,ROUGE-L,,,BERT,,,Fineturning\\n\")\n",
    "    r.write(\"/Testing,,r ,p,f,r ,p,f,r ,p,f,R,P,F1,Time\\n\")\n",
    "    r.write(str(modelName)+\",\"+str(bleu)+\",\"+str(r1_r)+\",\"+str(r1_p)+\",\"+str(r1_f)+\",\"+str(r2_r)+\",\"+str(r2_p)+\",\"+str(r2_f)+\",\"+str(r3_r)+\",\"+str(r3_p)+\",\"+str(r3_f)+\",\"+str(b_r)+\",\"+str(b_p)+\",\"+str(b_f)+\",\\n\")\n",
    "    r.close()  \n",
    "        \n",
    "def compute_save_metrics(references, responses, fileName, modelName):\n",
    "    # BLEU scores\n",
    "    bleu_scores = [compute_bleu(ref, hypo) for ref, hypo in zip(references, responses)]\n",
    "    print(\"BLEU scores with fineturning:\", mean(bleu_scores))\n",
    "    \n",
    "    # ROUGE scores\n",
    "    from rouge import Rouge\n",
    "    rouge = Rouge()\n",
    "    rouge1_r=0\n",
    "    rouge1_p=0\n",
    "    rouge1_f=0\n",
    "    rouge2_r=0\n",
    "    rouge2_p=0\n",
    "    rouge2_f=0\n",
    "    rougel_r=0\n",
    "    rougel_p=0\n",
    "    rougel_f=0\n",
    "    rouge1 = {'r':0, 'p':0, 'f':0}\n",
    "    rouge2 = {'r':0, 'p':0, 'f':0}\n",
    "    rougel = {'r':0, 'p':0, 'f':0}\n",
    "    try:\n",
    "        rouge_scoress = rouge.get_scores(responses, references)\n",
    "        for rouge_scores in rouge_scoress:\n",
    "            rouge1=rouge_scores['rouge-1']\n",
    "            rouge1_r += rouge1['r']\n",
    "            rouge1_p += rouge1['p']\n",
    "            rouge1_f += rouge1['f']\n",
    "            rouge2=rouge_scores['rouge-2']   \n",
    "            rouge2_r += rouge2['r']\n",
    "            rouge2_p += rouge2['p']\n",
    "            rouge2_f += rouge2['f']\n",
    "            rougel=rouge_scores['rouge-l']       \n",
    "            rougel_r += rougel['r']\n",
    "            rougel_p += rougel['p']\n",
    "            rougel_f += rougel['f']\n",
    "        lenRouge = len(rouge_scoress)\n",
    "        rouge1_r /= lenRouge\n",
    "        rouge1_p /= lenRouge\n",
    "        rouge1_f /= lenRouge\n",
    "        rouge2_r /= lenRouge\n",
    "        rouge2_p /= lenRouge\n",
    "        rouge2_f /= lenRouge\n",
    "        rougel_r /= lenRouge\n",
    "        rougel_p /= lenRouge\n",
    "        rougel_f /= lenRouge        \n",
    "    except:\n",
    "        print(\"No rouge scores\")\n",
    "    # ROUGE-1 Scores\n",
    "    print(f\"ROUGE-1 scores r, p, f with fine-turning: {rouge1_r}, {rouge1_p}, {rouge1_f} \\n\")    \n",
    "    # ROUGE-2 scores\n",
    "    print(f\"ROUGE-2 scores r, p, f withfine-turning: {rouge2_r}, {rouge2_p}, {rouge2_f} \\n\")    \n",
    "    # ROUGE-L scores\n",
    "    print(f\"ROUGE-l scores r, p, f with fine-turning: {rougel_r}, {rougel_p}, {rougel_f} \\n\")\n",
    "    # ROUGE-W scores    \n",
    "    \n",
    "    #  BERTScore\n",
    "    from bert_score import score\n",
    "    # Calculate BERTScore\n",
    "    P, R, F1 = score(responses, references, lang=\"en\", rescale_with_baseline=True, verbose=True)\n",
    "    print(f\"type(P): {type(P)}\\n\")\n",
    "    P = torch.mean(P)\n",
    "    R = torch.mean(R)\n",
    "    F1 = torch.mean(F1)\n",
    "    # Print Rbert, Pbert and Fbert\n",
    "    \n",
    "    print(f\"BERTScore-Precision with fineturning: {P}\\n\")\n",
    "    print(f\"\\nBERTScore-Recall with fineturning: {R}\\n\")\n",
    "    print(f\"BERTScore-F-Measure with fineturning: {F1}\")\n",
    "\n",
    "    save_metrics_csv(fileName, modelName, bleu_scores, rouge1, rouge2, rougel, P, R, F1)"
   ]
  },
  {
   "cell_type": "code",
   "execution_count": null,
   "id": "c9da13c0-8fc8-46eb-b7c2-87e9d2f7f7b0",
   "metadata": {},
   "outputs": [
    {
     "name": "stdout",
     "output_type": "stream",
     "text": [
      "BLEU scores with fineturning: 0.02642949183309564\n",
      "ROUGE-1 scores r, p, f with fine-turning: 0.2353448185801127, 0.2694106882022087, 0.23452076157029902 \n",
      "\n",
      "ROUGE-2 scores r, p, f withfine-turning: 0.1012401681546018, 0.10071652054349549, 0.0919480797329281 \n",
      "\n",
      "ROUGE-l scores r, p, f with fine-turning: 0.20612937171760706, 0.23321186642154548, 0.2034252508197684 \n",
      "\n"
     ]
    },
    {
     "name": "stderr",
     "output_type": "stream",
     "text": [
      "Some weights of RobertaModel were not initialized from the model checkpoint at roberta-large and are newly initialized: ['roberta.pooler.dense.bias', 'roberta.pooler.dense.weight']\n",
      "You should probably TRAIN this model on a down-stream task to be able to use it for predictions and inference.\n"
     ]
    },
    {
     "name": "stdout",
     "output_type": "stream",
     "text": [
      "calculating scores...\n",
      "computing bert embedding.\n"
     ]
    },
    {
     "data": {
      "application/vnd.jupyter.widget-view+json": {
       "model_id": "fd5804c2f0ff45a0aa6909fe3a4c55f1",
       "version_major": 2,
       "version_minor": 0
      },
      "text/plain": [
       "  0%|          | 0/1 [00:00<?, ?it/s]"
      ]
     },
     "metadata": {},
     "output_type": "display_data"
    },
    {
     "name": "stdout",
     "output_type": "stream",
     "text": [
      "computing greedy matching.\n"
     ]
    },
    {
     "data": {
      "application/vnd.jupyter.widget-view+json": {
       "model_id": "f33a87c83cb94fe79eb4e1d6ecf4d052",
       "version_major": 2,
       "version_minor": 0
      },
      "text/plain": [
       "  0%|          | 0/1 [00:00<?, ?it/s]"
      ]
     },
     "metadata": {},
     "output_type": "display_data"
    },
    {
     "name": "stdout",
     "output_type": "stream",
     "text": [
      "done in 0.16 seconds, 106.74 sentences/sec\n",
      "type(P): <class 'torch.Tensor'>\n",
      "\n",
      "BERTScore-Precision with fineturning: -0.1774972677230835\n",
      "\n",
      "\n",
      "BERTScore-Recall with fineturning: 0.04956745728850365\n",
      "\n",
      "BERTScore-F-Measure with fineturning: -0.07127402722835541\n"
     ]
    }
   ],
   "source": [
    "# Save the results and metrics of the Llama 3.2 1B model base to CSV files\n",
    "save_results_csv(\"/srv/data1/fuxiaoqin/Results_LM32_1B_Before.csv\", data_instructions, data_inputs, data_outputs, pretrained_responses)\n",
    "compute_save_metrics(references, pretrained_responses, \"/srv/data1/fuxiaoqin/Metrics_LM32_1B_Before.csv\",\"LM32_1B\")"
   ]
  },
  {
   "cell_type": "code",
   "execution_count": null,
   "id": "19b8c979-6ade-4dba-85a1-2419c9dbcd9d",
   "metadata": {},
   "outputs": [
    {
     "name": "stdout",
     "output_type": "stream",
     "text": [
      "Dataset({\n",
      "    features: ['instruction', 'input', 'output', 'input_ids', 'attention_mask', 'labels'],\n",
      "    num_rows: 193\n",
      "})\n"
     ]
    }
   ],
   "source": [
    "# Prepare the training data\n",
    "from datasets import load_dataset\n",
    "data_dict = {\n",
    "    \"train\": os.path.join(\"/srv/data1/fuxiaoqin/Downloads/\", \"EngineeringReference1_5_QAGPT4.json\")\n",
    "   \n",
    "}            \n",
    "dataset = load_dataset(\"json\", data_files=data_dict, split = \"train\")\n",
    "\n",
    "def formatting_func(example):\n",
    "    text = f\"### Question: {example['input']}\\n ### Answer: {example['output']}\"+tokenizer.eos_token\n",
    "    return text\n",
    "    \n",
    "def generate_and_tokenize_prompt(prompt):\n",
    "    return tokenizer(formatting_func(prompt))\n",
    "dataset = dataset.map(generate_and_tokenize_prompt)\n",
    "def formatting_func(example):\n",
    "    text = f\"### Question: {example['input']}\\n ### Answer: {example['output']}\"+tokenizer.eos_token\n",
    "    return text\n",
    "    \n",
    "def generate_and_tokenize_prompt(prompt):\n",
    "    return tokenizer(formatting_func(prompt))\n",
    "dataset = dataset.map(generate_and_tokenize_prompt)\n",
    "\n",
    "max_length = 512 # This was an appropriate max length for my dataset\n",
    "\n",
    "\n",
    "def generate_and_tokenize_prompt2(prompt):\n",
    "    result = tokenizer(\n",
    "        formatting_func(prompt),\n",
    "        truncation=True,\n",
    "        max_length=max_length,\n",
    "        padding=\"max_length\",\n",
    "    )\n",
    "    result[\"labels\"] = result[\"input_ids\"].copy()\n",
    "    return result\n",
    "    \n",
    "dataset = dataset.map(generate_and_tokenize_prompt2)\n",
    "print(dataset)"
   ]
  },
  {
   "cell_type": "code",
   "execution_count": null,
   "id": "0d213c1a-f1f8-4780-b84f-9d30170db490",
   "metadata": {},
   "outputs": [
    {
     "name": "stderr",
     "output_type": "stream",
     "text": [
      "Using the `WANDB_DISABLED` environment variable is deprecated and will be removed in v5. Use the --report_to flag to control the integrations used for logging result (for instance --report_to none).\n"
     ]
    }
   ],
   "source": [
    "# Prepare the model for fine-tuning\n",
    "from transformers import (\n",
    "    AutoModelForCausalLM,\n",
    "    AutoTokenizer,\n",
    "    BitsAndBytesConfig,\n",
    "    HfArgumentParser,\n",
    "    TrainingArguments,\n",
    "    pipeline,\n",
    "    logging,\n",
    ")\n",
    "import sys\n",
    "# !{sys.executable} -m pip install peft wandb\n",
    "from peft import (\n",
    "    LoraConfig,\n",
    "    PeftModel,\n",
    "    prepare_model_for_kbit_training,\n",
    "    get_peft_model,\n",
    ")\n",
    "\n",
    "# LoRA config\n",
    "peft_config = LoraConfig(\n",
    "    r=16, \n",
    "    lora_alpha=32, \n",
    "    lora_dropout=0.05,\n",
    "    bias=\"none\",\n",
    "    task_type=\"CAUSAL_LM\",\n",
    "    target_modules=['up_proj', 'down_proj', 'gate_proj', 'k_proj', 'q_proj', 'v_proj', 'o_proj']\n",
    ")\n",
    "model = get_peft_model(model, peft_config)\n",
    "training_arguments = TrainingArguments(\n",
    "    # output_dir=\"xfu20/Building_energy_Llama_1B_LoRA\",\n",
    "    output_dir=\"/srv/data1/fuxiaoqin/\"+new_model+\"/LoRA\",\n",
    "    per_device_train_batch_size=1,\n",
    "    per_device_eval_batch_size=1,\n",
    "    gradient_accumulation_steps=2,\n",
    "    # optim=\"paged_adamw_32bit\",\n",
    "    num_train_epochs=1,\n",
    "    # eval_strategy=\"steps\",\n",
    "    # eval_steps=0.2,\n",
    "    logging_steps=1,\n",
    "    logging_dir=\"/srv/data1/fuxiaoqin/\"+new_model+\"/LoRALogs\",\n",
    "    warmup_steps=10,\n",
    "    logging_strategy=\"steps\",\n",
    "    learning_rate=2e-4,\n",
    "    fp16=True,  #False,\n",
    "    bf16=False, #True,\n",
    "    group_by_length=True,\n",
    "    push_to_hub=True,\n",
    "    # report_to=\"wandb\"\n",
    ")"
   ]
  },
  {
   "cell_type": "code",
   "execution_count": null,
   "id": "83296c08-c244-4c76-a516-497c94596137",
   "metadata": {},
   "outputs": [
    {
     "name": "stderr",
     "output_type": "stream",
     "text": [
      "/tmp/ipykernel_2096222/2529246835.py:1: FutureWarning: `tokenizer` is deprecated and removed starting from version 0.16.0 for `SFTTrainer.__init__`. Use `processing_class` instead.\n",
      "  trainer = SFTTrainer(\n"
     ]
    }
   ],
   "source": [
    "# Set the trainer\n",
    "trainer = SFTTrainer(\n",
    "    model=model,\n",
    "    train_dataset=dataset,\n",
    "    peft_config=peft_config,\n",
    "    tokenizer=tokenizer,\n",
    "    args=training_arguments,\n",
    ")"
   ]
  },
  {
   "cell_type": "code",
   "execution_count": null,
   "id": "0bd794c0-9cee-442f-9d74-5abef224adea",
   "metadata": {},
   "outputs": [
    {
     "name": "stdout",
     "output_type": "stream",
     "text": [
      "GPU = NVIDIA H100 PCIe. Max memory = 79.216 GB.\n",
      "6.744 GB of memory reserved.\n",
      "LoRA peak reserved memory for the response without fine-tuning = 0.0 GB.\n",
      "LoRA peak reserved memory for the response without fine-tuning % of max memory = 0.0 %.\n"
     ]
    }
   ],
   "source": [
    "# Memory statistics before fine-tuning Llama 3.2 1B model with LoRA  \n",
    "gpu_stats = torch.cuda.get_device_properties(0)\n",
    "start_gpu_memory = round(torch.cuda.max_memory_reserved() / 1024 / 1024 / 1024,3)\n",
    "max_memory = round(gpu_stats.total_memory / 1024 / 1024 / 1024, 3)\n",
    "print(f\"GPU = {gpu_stats.name}. Max memory = {max_memory} GB.\")\n",
    "print(f\"{start_gpu_memory} GB of memory reserved.\")\n",
    "\n",
    "used_memory = round(torch.cuda.max_memory_reserved() / 1024 / 1024 / 1024, 3)\n",
    "used_memory_for_lora = round(used_memory - start_gpu_memory, 3)\n",
    "used_percentage = round(used_memory         /max_memory*100, 3)\n",
    "lora_percentage = round(used_memory_for_lora/max_memory*100, 3)\n",
    "# print(f\"Peak reserved memory = {used_memory} GB.\")\n",
    "print(f\"LoRA peak reserved memory for the response without fine-tuning = {used_memory_for_lora} GB.\")\n",
    "# print(f\"Peak reserved memory % of max memory = {used_percentage} %.\")\n",
    "print(f\"LoRA peak reserved memory for the response without fine-tuning % of max memory = {lora_percentage} %.\")"
   ]
  },
  {
   "cell_type": "code",
   "execution_count": null,
   "id": "7af4b0bd-717a-47a0-8e7e-e356be44bde4",
   "metadata": {},
   "outputs": [
    {
     "data": {
      "text/html": [
       "\n",
       "    <div>\n",
       "      \n",
       "      <progress value='96' max='96' style='width:300px; height:20px; vertical-align: middle;'></progress>\n",
       "      [96/96 00:30, Epoch 0/1]\n",
       "    </div>\n",
       "    <table border=\"1\" class=\"dataframe\">\n",
       "  <thead>\n",
       " <tr style=\"text-align: left;\">\n",
       "      <th>Step</th>\n",
       "      <th>Training Loss</th>\n",
       "    </tr>\n",
       "  </thead>\n",
       "  <tbody>\n",
       "    <tr>\n",
       "      <td>1</td>\n",
       "      <td>3.141900</td>\n",
       "    </tr>\n",
       "    <tr>\n",
       "      <td>2</td>\n",
       "      <td>3.988000</td>\n",
       "    </tr>\n",
       "    <tr>\n",
       "      <td>3</td>\n",
       "      <td>3.979800</td>\n",
       "    </tr>\n",
       "    <tr>\n",
       "      <td>4</td>\n",
       "      <td>3.912900</td>\n",
       "    </tr>\n",
       "    <tr>\n",
       "      <td>5</td>\n",
       "      <td>3.105400</td>\n",
       "    </tr>\n",
       "    <tr>\n",
       "      <td>6</td>\n",
       "      <td>3.603500</td>\n",
       "    </tr>\n",
       "    <tr>\n",
       "      <td>7</td>\n",
       "      <td>3.602600</td>\n",
       "    </tr>\n",
       "    <tr>\n",
       "      <td>8</td>\n",
       "      <td>3.381300</td>\n",
       "    </tr>\n",
       "    <tr>\n",
       "      <td>9</td>\n",
       "      <td>3.341700</td>\n",
       "    </tr>\n",
       "    <tr>\n",
       "      <td>10</td>\n",
       "      <td>2.316000</td>\n",
       "    </tr>\n",
       "    <tr>\n",
       "      <td>11</td>\n",
       "      <td>2.541600</td>\n",
       "    </tr>\n",
       "    <tr>\n",
       "      <td>12</td>\n",
       "      <td>3.113100</td>\n",
       "    </tr>\n",
       "    <tr>\n",
       "      <td>13</td>\n",
       "      <td>2.531300</td>\n",
       "    </tr>\n",
       "    <tr>\n",
       "      <td>14</td>\n",
       "      <td>2.481900</td>\n",
       "    </tr>\n",
       "    <tr>\n",
       "      <td>15</td>\n",
       "      <td>2.784700</td>\n",
       "    </tr>\n",
       "    <tr>\n",
       "      <td>16</td>\n",
       "      <td>2.481600</td>\n",
       "    </tr>\n",
       "    <tr>\n",
       "      <td>17</td>\n",
       "      <td>2.120000</td>\n",
       "    </tr>\n",
       "    <tr>\n",
       "      <td>18</td>\n",
       "      <td>2.353600</td>\n",
       "    </tr>\n",
       "    <tr>\n",
       "      <td>19</td>\n",
       "      <td>2.662400</td>\n",
       "    </tr>\n",
       "    <tr>\n",
       "      <td>20</td>\n",
       "      <td>3.117500</td>\n",
       "    </tr>\n",
       "    <tr>\n",
       "      <td>21</td>\n",
       "      <td>2.477100</td>\n",
       "    </tr>\n",
       "    <tr>\n",
       "      <td>22</td>\n",
       "      <td>2.589100</td>\n",
       "    </tr>\n",
       "    <tr>\n",
       "      <td>23</td>\n",
       "      <td>2.145800</td>\n",
       "    </tr>\n",
       "    <tr>\n",
       "      <td>24</td>\n",
       "      <td>2.084800</td>\n",
       "    </tr>\n",
       "    <tr>\n",
       "      <td>25</td>\n",
       "      <td>2.496800</td>\n",
       "    </tr>\n",
       "    <tr>\n",
       "      <td>26</td>\n",
       "      <td>3.257000</td>\n",
       "    </tr>\n",
       "    <tr>\n",
       "      <td>27</td>\n",
       "      <td>2.535300</td>\n",
       "    </tr>\n",
       "    <tr>\n",
       "      <td>28</td>\n",
       "      <td>2.343700</td>\n",
       "    </tr>\n",
       "    <tr>\n",
       "      <td>29</td>\n",
       "      <td>2.555100</td>\n",
       "    </tr>\n",
       "    <tr>\n",
       "      <td>30</td>\n",
       "      <td>2.360600</td>\n",
       "    </tr>\n",
       "    <tr>\n",
       "      <td>31</td>\n",
       "      <td>2.991600</td>\n",
       "    </tr>\n",
       "    <tr>\n",
       "      <td>32</td>\n",
       "      <td>2.164700</td>\n",
       "    </tr>\n",
       "    <tr>\n",
       "      <td>33</td>\n",
       "      <td>2.781900</td>\n",
       "    </tr>\n",
       "    <tr>\n",
       "      <td>34</td>\n",
       "      <td>2.196700</td>\n",
       "    </tr>\n",
       "    <tr>\n",
       "      <td>35</td>\n",
       "      <td>2.028300</td>\n",
       "    </tr>\n",
       "    <tr>\n",
       "      <td>36</td>\n",
       "      <td>2.945000</td>\n",
       "    </tr>\n",
       "    <tr>\n",
       "      <td>37</td>\n",
       "      <td>2.231200</td>\n",
       "    </tr>\n",
       "    <tr>\n",
       "      <td>38</td>\n",
       "      <td>2.173000</td>\n",
       "    </tr>\n",
       "    <tr>\n",
       "      <td>39</td>\n",
       "      <td>2.554000</td>\n",
       "    </tr>\n",
       "    <tr>\n",
       "      <td>40</td>\n",
       "      <td>1.959300</td>\n",
       "    </tr>\n",
       "    <tr>\n",
       "      <td>41</td>\n",
       "      <td>2.276000</td>\n",
       "    </tr>\n",
       "    <tr>\n",
       "      <td>42</td>\n",
       "      <td>2.142200</td>\n",
       "    </tr>\n",
       "    <tr>\n",
       "      <td>43</td>\n",
       "      <td>2.466500</td>\n",
       "    </tr>\n",
       "    <tr>\n",
       "      <td>44</td>\n",
       "      <td>3.438100</td>\n",
       "    </tr>\n",
       "    <tr>\n",
       "      <td>45</td>\n",
       "      <td>2.855400</td>\n",
       "    </tr>\n",
       "    <tr>\n",
       "      <td>46</td>\n",
       "      <td>2.521600</td>\n",
       "    </tr>\n",
       "    <tr>\n",
       "      <td>47</td>\n",
       "      <td>2.719100</td>\n",
       "    </tr>\n",
       "    <tr>\n",
       "      <td>48</td>\n",
       "      <td>1.933800</td>\n",
       "    </tr>\n",
       "    <tr>\n",
       "      <td>49</td>\n",
       "      <td>1.543400</td>\n",
       "    </tr>\n",
       "    <tr>\n",
       "      <td>50</td>\n",
       "      <td>2.292600</td>\n",
       "    </tr>\n",
       "    <tr>\n",
       "      <td>51</td>\n",
       "      <td>2.172400</td>\n",
       "    </tr>\n",
       "    <tr>\n",
       "      <td>52</td>\n",
       "      <td>2.069000</td>\n",
       "    </tr>\n",
       "    <tr>\n",
       "      <td>53</td>\n",
       "      <td>2.369300</td>\n",
       "    </tr>\n",
       "    <tr>\n",
       "      <td>54</td>\n",
       "      <td>2.086900</td>\n",
       "    </tr>\n",
       "    <tr>\n",
       "      <td>55</td>\n",
       "      <td>2.617000</td>\n",
       "    </tr>\n",
       "    <tr>\n",
       "      <td>56</td>\n",
       "      <td>1.719200</td>\n",
       "    </tr>\n",
       "    <tr>\n",
       "      <td>57</td>\n",
       "      <td>2.127100</td>\n",
       "    </tr>\n",
       "    <tr>\n",
       "      <td>58</td>\n",
       "      <td>2.457400</td>\n",
       "    </tr>\n",
       "    <tr>\n",
       "      <td>59</td>\n",
       "      <td>2.102400</td>\n",
       "    </tr>\n",
       "    <tr>\n",
       "      <td>60</td>\n",
       "      <td>2.334400</td>\n",
       "    </tr>\n",
       "    <tr>\n",
       "      <td>61</td>\n",
       "      <td>2.004300</td>\n",
       "    </tr>\n",
       "    <tr>\n",
       "      <td>62</td>\n",
       "      <td>2.689700</td>\n",
       "    </tr>\n",
       "    <tr>\n",
       "      <td>63</td>\n",
       "      <td>2.785900</td>\n",
       "    </tr>\n",
       "    <tr>\n",
       "      <td>64</td>\n",
       "      <td>2.730800</td>\n",
       "    </tr>\n",
       "    <tr>\n",
       "      <td>65</td>\n",
       "      <td>2.161200</td>\n",
       "    </tr>\n",
       "    <tr>\n",
       "      <td>66</td>\n",
       "      <td>1.922100</td>\n",
       "    </tr>\n",
       "    <tr>\n",
       "      <td>67</td>\n",
       "      <td>1.666800</td>\n",
       "    </tr>\n",
       "    <tr>\n",
       "      <td>68</td>\n",
       "      <td>2.118300</td>\n",
       "    </tr>\n",
       "    <tr>\n",
       "      <td>69</td>\n",
       "      <td>2.025800</td>\n",
       "    </tr>\n",
       "    <tr>\n",
       "      <td>70</td>\n",
       "      <td>2.716100</td>\n",
       "    </tr>\n",
       "    <tr>\n",
       "      <td>71</td>\n",
       "      <td>2.465100</td>\n",
       "    </tr>\n",
       "    <tr>\n",
       "      <td>72</td>\n",
       "      <td>2.726100</td>\n",
       "    </tr>\n",
       "    <tr>\n",
       "      <td>73</td>\n",
       "      <td>2.389500</td>\n",
       "    </tr>\n",
       "    <tr>\n",
       "      <td>74</td>\n",
       "      <td>2.134000</td>\n",
       "    </tr>\n",
       "    <tr>\n",
       "      <td>75</td>\n",
       "      <td>2.088100</td>\n",
       "    </tr>\n",
       "    <tr>\n",
       "      <td>76</td>\n",
       "      <td>2.410700</td>\n",
       "    </tr>\n",
       "    <tr>\n",
       "      <td>77</td>\n",
       "      <td>1.832100</td>\n",
       "    </tr>\n",
       "    <tr>\n",
       "      <td>78</td>\n",
       "      <td>1.842200</td>\n",
       "    </tr>\n",
       "    <tr>\n",
       "      <td>79</td>\n",
       "      <td>1.560500</td>\n",
       "    </tr>\n",
       "    <tr>\n",
       "      <td>80</td>\n",
       "      <td>1.948800</td>\n",
       "    </tr>\n",
       "    <tr>\n",
       "      <td>81</td>\n",
       "      <td>2.065400</td>\n",
       "    </tr>\n",
       "    <tr>\n",
       "      <td>82</td>\n",
       "      <td>1.909100</td>\n",
       "    </tr>\n",
       "    <tr>\n",
       "      <td>83</td>\n",
       "      <td>2.294500</td>\n",
       "    </tr>\n",
       "    <tr>\n",
       "      <td>84</td>\n",
       "      <td>2.016900</td>\n",
       "    </tr>\n",
       "    <tr>\n",
       "      <td>85</td>\n",
       "      <td>2.104600</td>\n",
       "    </tr>\n",
       "    <tr>\n",
       "      <td>86</td>\n",
       "      <td>2.224100</td>\n",
       "    </tr>\n",
       "    <tr>\n",
       "      <td>87</td>\n",
       "      <td>1.981700</td>\n",
       "    </tr>\n",
       "    <tr>\n",
       "      <td>88</td>\n",
       "      <td>1.970800</td>\n",
       "    </tr>\n",
       "    <tr>\n",
       "      <td>89</td>\n",
       "      <td>2.250500</td>\n",
       "    </tr>\n",
       "    <tr>\n",
       "      <td>90</td>\n",
       "      <td>2.109400</td>\n",
       "    </tr>\n",
       "    <tr>\n",
       "      <td>91</td>\n",
       "      <td>2.329000</td>\n",
       "    </tr>\n",
       "    <tr>\n",
       "      <td>92</td>\n",
       "      <td>1.965300</td>\n",
       "    </tr>\n",
       "    <tr>\n",
       "      <td>93</td>\n",
       "      <td>1.956000</td>\n",
       "    </tr>\n",
       "    <tr>\n",
       "      <td>94</td>\n",
       "      <td>2.655300</td>\n",
       "    </tr>\n",
       "    <tr>\n",
       "      <td>95</td>\n",
       "      <td>2.341700</td>\n",
       "    </tr>\n",
       "    <tr>\n",
       "      <td>96</td>\n",
       "      <td>2.491300</td>\n",
       "    </tr>\n",
       "  </tbody>\n",
       "</table><p>"
      ],
      "text/plain": [
       "<IPython.core.display.HTML object>"
      ]
     },
     "metadata": {},
     "output_type": "display_data"
    },
    {
     "name": "stderr",
     "output_type": "stream",
     "text": [
      "/srv/data1/fuxiaoqin/conda_envs/py2/lib/python3.12/site-packages/peft/utils/save_and_load.py:260: UserWarning: Setting `save_embedding_layers` to `True` as the embedding layer has been resized during finetuning.\n",
      "  warnings.warn(\n"
     ]
    },
    {
     "name": "stdout",
     "output_type": "stream",
     "text": [
      "LoRA fine-tuning: 127.04seconds\n"
     ]
    }
   ],
   "source": [
    "# Fine-tuning Llama 3.2 1B model with LoRA and timeing\n",
    "import time\n",
    "start_time = time.time()\n",
    "\n",
    "LoRA_result = trainer.train()\n",
    "\n",
    "end_time = time.time()\n",
    "lora_time = end_time - start_time\n",
    "print(\"LoRA fine-tuning: {:.2f}seconds\".format(lora_time))\n"
   ]
  },
  {
   "cell_type": "code",
   "execution_count": null,
   "id": "834d00e5-e496-438e-8dfe-891e33a778aa",
   "metadata": {},
   "outputs": [
    {
     "name": "stdout",
     "output_type": "stream",
     "text": [
      "GPU = NVIDIA H100 PCIe. Max memory = 79.216 GB.\n",
      "11.117 GB of memory reserved.\n",
      "LoRA reserved memory for the response after fine-tuning = 0.0 GB.\n",
      "LoRA reserved memory for the response after fine-tuning % of max memory = 0.0 %.\n"
     ]
    }
   ],
   "source": [
    "# Memory statistics after fine-tuning Llama 3.2 1B model with LoRA  \n",
    "gpu_stats = torch.cuda.get_device_properties(0)\n",
    "start_gpu_memory = round(torch.cuda.max_memory_reserved() / 1024 / 1024 / 1024,3)\n",
    "max_memory = round(gpu_stats.total_memory / 1024 / 1024 / 1024, 3)\n",
    "print(f\"GPU = {gpu_stats.name}. Max memory = {max_memory} GB.\")\n",
    "print(f\"{start_gpu_memory} GB of memory reserved.\")\n",
    "\n",
    "\n",
    "used_memory = round(torch.cuda.max_memory_reserved() / 1024 / 1024 / 1024, 3)\n",
    "used_memory_for_lora = round(used_memory - start_gpu_memory, 3)\n",
    "used_percentage = round(used_memory         /max_memory*100, 3)\n",
    "lora_percentage = round(used_memory_for_lora/max_memory*100, 3)\n",
    "# print(f\"Peak reserved memory = {used_memory} GB.\")\n",
    "print(f\"LoRA reserved memory for the response after fine-tuning = {used_memory_for_lora} GB.\")\n",
    "# print(f\"Peak reserved memory % of max memory = {used_percentage} %.\")\n",
    "print(f\"LoRA reserved memory for the response after fine-tuning % of max memory = {lora_percentage} %.\")\n",
    "\n",
    "model.config.use_cache = False"
   ]
  },
  {
   "cell_type": "code",
   "execution_count": null,
   "id": "5d03313f-25cf-46c9-841a-0ccc146f1d3c",
   "metadata": {},
   "outputs": [
    {
     "data": {
      "application/vnd.jupyter.widget-view+json": {
       "model_id": "95c2b160bc444438a77a9200e0677bc9",
       "version_major": 2,
       "version_minor": 0
      },
      "text/plain": [
       "README.md:   0%|          | 0.00/5.17k [00:00<?, ?B/s]"
      ]
     },
     "metadata": {},
     "output_type": "display_data"
    },
    {
     "name": "stderr",
     "output_type": "stream",
     "text": [
      "/srv/data1/fuxiaoqin/conda_envs/py2/lib/python3.12/site-packages/peft/utils/save_and_load.py:260: UserWarning: Setting `save_embedding_layers` to `True` as the embedding layer has been resized during finetuning.\n",
      "  warnings.warn(\n",
      "No files have been modified since last commit. Skipping to prevent empty commit.\n"
     ]
    },
    {
     "data": {
      "text/plain": [
       "CommitInfo(commit_url='https://huggingface.co/xfu20/Building_energy_Llama_1B_LoRA/commit/8d26206afc8684eb2836599869b8d7a1ff190a71', commit_message='Upload model', commit_description='', oid='8d26206afc8684eb2836599869b8d7a1ff190a71', pr_url=None, repo_url=RepoUrl('https://huggingface.co/xfu20/Building_energy_Llama_1B_LoRA', endpoint='https://huggingface.co', repo_type='model', repo_id='xfu20/Building_energy_Llama_1B_LoRA'), pr_revision=None, pr_num=None)"
      ]
     },
     "execution_count": 21,
     "metadata": {},
     "output_type": "execute_result"
    }
   ],
   "source": [
    "# Upload the tokenizer and model of Llama 3.2 1B, which was fine-tuned with LoRA, to Hugging Face\n",
    "\n",
    "tokenizer.push_to_hub(\"Building_energy_Llama_1B_LoRA\")\n",
    "model.push_to_hub(\"Building_energy_Llama_1B_LoRA\")"
   ]
  },
  {
   "cell_type": "code",
   "execution_count": null,
   "id": "5fc22b83-2f16-4615-84db-97e5adc5219b",
   "metadata": {},
   "outputs": [],
   "source": [
    "import matplotlib.pyplot as plt\n",
    "\n",
    "# Plot the training loss\n",
    "def finetuning_results(train_result, plot_title):\n",
    "    metrics = train_result.metrics\n",
    "    trainer.log_metrics(\"train\", metrics)\n",
    "    trainer.save_metrics(\"train\", metrics)\n",
    "\n",
    "    # Initialize lists to store loss values and corresponding steps\n",
    "    losses = []\n",
    "    steps = []\n",
    "    \n",
    "    # Iterate through the log history\n",
    "    for log in trainer.state.log_history:\n",
    "        # Check if 'loss' is in the log entry\n",
    "        if 'loss' in log:\n",
    "            losses.append(log['loss'])\n",
    "            # Use 'step' if available; otherwise, use 'epoch'\n",
    "            steps.append(log.get('step', log.get('epoch')))\n",
    "            \n",
    "    # Create a plot of loss vs. steps\n",
    "    plt.figure(figsize=(8, 5))\n",
    "    plt.plot(steps, losses, marker='o', linestyle='-', color='blue')\n",
    "    plt.xlabel('Step')\n",
    "    plt.ylabel('Loss')\n",
    "    plt.title(plot_title)\n",
    "    plt.grid(True)\n",
    "    plt.tight_layout()\n",
    "    plt.show()\n",
    "    return losses, steps"
   ]
  },
  {
   "cell_type": "code",
   "execution_count": null,
   "id": "701734c0-5b5d-49fc-9977-05a569889ed0",
   "metadata": {},
   "outputs": [
    {
     "name": "stdout",
     "output_type": "stream",
     "text": [
      "***** train metrics *****\n",
      "  epoch                    =     0.9948\n",
      "  total_flos               =   540757GF\n",
      "  train_loss               =     2.4433\n",
      "  train_runtime            = 0:00:31.04\n",
      "  train_samples_per_second =      6.216\n",
      "  train_steps_per_second   =      3.092\n"
     ]
    },
    {
     "data": {
      "image/png": "[encoded data removed]",
      "text/plain": [
       "<Figure size 800x500 with 1 Axes>"
      ]
     },
     "metadata": {},
     "output_type": "display_data"
    }
   ],
   "source": [
    "# Plot the training loss of the Llama 3.2 1B model fine-tuned with LoRA\n",
    "lora_losses, lora_steps = finetuning_results(LoRA_result, \"LoRA Fine-tuning Loss-step Curve\")"
   ]
  },
  {
   "cell_type": "code",
   "execution_count": null,
   "id": "3da74f69-aec9-46ce-9ddd-1ab476cdfa8e",
   "metadata": {},
   "outputs": [
    {
     "name": "stdout",
     "output_type": "stream",
     "text": [
      "len(responses) = 17\n"
     ]
    }
   ],
   "source": [
    "# Get the answers from the tokenizer and the Llama 3.2 1B model fine-tuned with LoRA according to the question inputs\n",
    "\n",
    "responses = get_responses(data_inputs, model, tokenizer)\n",
    "print(\"len(responses) =\", len(responses))"
   ]
  },
  {
   "cell_type": "code",
   "execution_count": null,
   "id": "e58df9b6-810c-439c-8517-dfabb38a9aed",
   "metadata": {},
   "outputs": [
    {
     "name": "stdout",
     "output_type": "stream",
     "text": [
      "BLEU scores with fineturning: 0.021723038040041505\n",
      "ROUGE-1 scores r, p, f with fine-turning: 0.2196879808644514, 0.25454423883790517, 0.22127393751544272 \n",
      "\n",
      "ROUGE-2 scores r, p, f withfine-turning: 0.08656956399096356, 0.09388075616625156, 0.08238129939769824 \n",
      "\n",
      "ROUGE-l scores r, p, f with fine-turning: 0.2043285037402684, 0.2327990190108439, 0.20372437558327688 \n",
      "\n"
     ]
    },
    {
     "name": "stderr",
     "output_type": "stream",
     "text": [
      "Some weights of RobertaModel were not initialized from the model checkpoint at roberta-large and are newly initialized: ['roberta.pooler.dense.bias', 'roberta.pooler.dense.weight']\n",
      "You should probably TRAIN this model on a down-stream task to be able to use it for predictions and inference.\n"
     ]
    },
    {
     "name": "stdout",
     "output_type": "stream",
     "text": [
      "calculating scores...\n",
      "computing bert embedding.\n"
     ]
    },
    {
     "data": {
      "application/vnd.jupyter.widget-view+json": {
       "model_id": "f38047a8ee8e40a2903ad4e9b5b16efc",
       "version_major": 2,
       "version_minor": 0
      },
      "text/plain": [
       "  0%|          | 0/1 [00:00<?, ?it/s]"
      ]
     },
     "metadata": {},
     "output_type": "display_data"
    },
    {
     "name": "stdout",
     "output_type": "stream",
     "text": [
      "computing greedy matching.\n"
     ]
    },
    {
     "data": {
      "application/vnd.jupyter.widget-view+json": {
       "model_id": "de5efe4e0b1645c0a9baf78f2c8d2460",
       "version_major": 2,
       "version_minor": 0
      },
      "text/plain": [
       "  0%|          | 0/1 [00:00<?, ?it/s]"
      ]
     },
     "metadata": {},
     "output_type": "display_data"
    },
    {
     "name": "stdout",
     "output_type": "stream",
     "text": [
      "done in 0.12 seconds, 143.77 sentences/sec\n",
      "type(P): <class 'torch.Tensor'>\n",
      "\n",
      "BERTScore-Precision with fineturning: -0.19256889820098877\n",
      "\n",
      "\n",
      "BERTScore-Recall with fineturning: 0.011376110836863518\n",
      "\n",
      "BERTScore-F-Measure with fineturning: -0.09400477260351181\n"
     ]
    }
   ],
   "source": [
    "# Save the results and metrics of the Llama 3.2 1B model fine-tuned with LoRA to CSV files\n",
    "\n",
    "save_results_csv(\"/srv/data1/fuxiaoqin/Results_LM32_1B_QA_LoRA.csv\", data_instructions, data_inputs, data_outputs, responses)\n",
    "compute_save_metrics(references, responses, \"/srv/data1/fuxiaoqin/Metrics_LM32_1B_QA_LoRA.csv\",\"LM32_1B\")"
   ]
  },
  {
   "cell_type": "code",
   "execution_count": null,
   "id": "1fe3d948-6c05-47c8-89ce-88b6e20c656e",
   "metadata": {},
   "outputs": [
    {
     "name": "stderr",
     "output_type": "stream",
     "text": [
      "Using the `WANDB_DISABLED` environment variable is deprecated and will be removed in v5. Use the --report_to flag to control the integrations used for logging result (for instance --report_to none).\n"
     ]
    }
   ],
   "source": [
    "# QLoRA config\n",
    "bnb_config = BitsAndBytesConfig(\n",
    "    load_in_4bit=True,\n",
    "    bnb_4bit_quant_type=\"nf4\",\n",
    "    bnb_4bit_compute_dtype=torch_dtype,\n",
    "    bnb_4bit_use_double_quant=True,\n",
    ")\n",
    "\n",
    "# Load the model again\n",
    "model = AutoModelForCausalLM.from_pretrained(\n",
    "    base_model,\n",
    "    quantization_config = bnb_config, # Load QLoRA config\n",
    "    device_map=\"auto\",\n",
    "    attn_implementation=attn_implementation,\n",
    ")\n",
    "\n",
    "from trl import SFTTrainer, setup_chat_format\n",
    "\n",
    "# Load tokenizer again\n",
    "tokenizer = AutoTokenizer.from_pretrained(base_model)\n",
    "model, tokenizer = setup_chat_format(model, tokenizer)\n",
    "\n",
    "# peft_config = LoraConfig(\n",
    "#     r=16,  # 1,  #16\n",
    "#     lora_alpha=32, # 1, #32,\n",
    "#     lora_dropout=0.05,\n",
    "#     bias=\"none\",\n",
    "#     task_type=\"CAUSAL_LM\",\n",
    "#     target_modules=['up_proj', 'down_proj', 'gate_proj', 'k_proj', 'q_proj', 'v_proj', 'o_proj']\n",
    "# )\n",
    "\n",
    "# Prepare the model for fine-tuning again\n",
    "\n",
    "model = get_peft_model(model, peft_config)\n",
    "\n",
    "training_arguments = TrainingArguments(\n",
    "    output_dir=\"xfu20/Building_energy_Llama_1B_QLoRA\",\n",
    "    # output_dir=\"/srv/data1/fuxiaoqin/\"+new_model+\"/QLoRA\",\n",
    "    per_device_train_batch_size=1,\n",
    "    per_device_eval_batch_size=1,\n",
    "    gradient_accumulation_steps=2,\n",
    "    # optim=\"paged_adamw_32bit\",\n",
    "    num_train_epochs=1,\n",
    "    # eval_strategy=\"steps\",\n",
    "    # eval_steps=0.2,\n",
    "    logging_steps=1,\n",
    "    # logging_dir=\"/srv/data1/fuxiaoqin/\"+new_model+\"/QLoRALogs\",\n",
    "    warmup_steps=10,\n",
    "    logging_strategy=\"steps\",\n",
    "    learning_rate=2e-4,\n",
    "    fp16=True,  #False,\n",
    "    bf16=False, #True,\n",
    "    group_by_length=True,\n",
    ")\n"
   ]
  },
  {
   "cell_type": "code",
   "execution_count": 27,
   "id": "b5777f3d-29d3-4a48-ad67-10c908c368b8",
   "metadata": {},
   "outputs": [
    {
     "name": "stderr",
     "output_type": "stream",
     "text": [
      "/tmp/ipykernel_2096222/2049995551.py:1: FutureWarning: `tokenizer` is deprecated and removed starting from version 0.16.0 for `SFTTrainer.__init__`. Use `processing_class` instead.\n",
      "  trainer = SFTTrainer(\n"
     ]
    }
   ],
   "source": [
    "trainer = SFTTrainer(\n",
    "    model=model,\n",
    "    train_dataset=dataset,\n",
    "    # eval_dataset=dataset[\"test\"],\n",
    "    peft_config=peft_config,\n",
    "    # max_seq_length=512,\n",
    "    # dataset_text_field=\"text\",\n",
    "    tokenizer=tokenizer,\n",
    "    args=training_arguments,\n",
    "    # packing= False,\n",
    ")"
   ]
  },
  {
   "cell_type": "code",
   "execution_count": null,
   "id": "ce86cf62-c510-4949-a648-1d69b6c9d02b",
   "metadata": {},
   "outputs": [
    {
     "name": "stdout",
     "output_type": "stream",
     "text": [
      "GPU = NVIDIA H100 PCIe. Max memory = 79.216 GB.\n",
      "11.117 GB of memory reserved.\n",
      "QLoRA peak reserved memory for the response without fine-tuning = 0.0 GB.\n",
      "QLoRA peak reserved memory for the response without fine-tuning % of max memory = 0.0 %.\n"
     ]
    }
   ],
   "source": [
    "# Memory statistics before fine-tuning Llama 3.2 1B model with QLoRA\n",
    "\n",
    "gpu_stats = torch.cuda.get_device_properties(0)\n",
    "start_gpu_memory_qlora = round(torch.cuda.max_memory_reserved() / 1024 / 1024 / 1024,3)\n",
    "max_memory_qlora = round(gpu_stats.total_memory / 1024 / 1024 / 1024, 3)\n",
    "print(f\"GPU = {gpu_stats.name}. Max memory = {max_memory_qlora} GB.\")\n",
    "print(f\"{start_gpu_memory_qlora} GB of memory reserved.\")\n",
    "\n",
    "used_memory = round(torch.cuda.max_memory_reserved() / 1024 / 1024 / 1024, 3)\n",
    "used_memory_for_qlora = round(used_memory - start_gpu_memory, 3)\n",
    "used_percentage = round(used_memory         /max_memory*100, 3)\n",
    "qlora_percentage = round(used_memory_for_lora/max_memory*100, 3)\n",
    "# print(f\"Peak reserved memory = {used_memory} GB.\")\n",
    "print(f\"QLoRA peak reserved memory for the response without fine-tuning = {used_memory_for_qlora} GB.\")\n",
    "# print(f\"Peak reserved memory % of max memory = {used_percentage} %.\")\n",
    "print(f\"QLoRA peak reserved memory for the response without fine-tuning % of max memory = {qlora_percentage} %.\")"
   ]
  },
  {
   "cell_type": "code",
   "execution_count": null,
   "id": "2b52839a-f5b7-46a9-a95e-7f6494b771b1",
   "metadata": {},
   "outputs": [
    {
     "data": {
      "text/html": [
       "\n",
       "    <div>\n",
       "      \n",
       "      <progress value='96' max='96' style='width:300px; height:20px; vertical-align: middle;'></progress>\n",
       "      [96/96 00:31, Epoch 0/1]\n",
       "    </div>\n",
       "    <table border=\"1\" class=\"dataframe\">\n",
       "  <thead>\n",
       " <tr style=\"text-align: left;\">\n",
       "      <th>Step</th>\n",
       "      <th>Training Loss</th>\n",
       "    </tr>\n",
       "  </thead>\n",
       "  <tbody>\n",
       "    <tr>\n",
       "      <td>1</td>\n",
       "      <td>3.195300</td>\n",
       "    </tr>\n",
       "    <tr>\n",
       "      <td>2</td>\n",
       "      <td>4.079000</td>\n",
       "    </tr>\n",
       "    <tr>\n",
       "      <td>3</td>\n",
       "      <td>4.068800</td>\n",
       "    </tr>\n",
       "    <tr>\n",
       "      <td>4</td>\n",
       "      <td>4.036100</td>\n",
       "    </tr>\n",
       "    <tr>\n",
       "      <td>5</td>\n",
       "      <td>3.355400</td>\n",
       "    </tr>\n",
       "    <tr>\n",
       "      <td>6</td>\n",
       "      <td>3.821500</td>\n",
       "    </tr>\n",
       "    <tr>\n",
       "      <td>7</td>\n",
       "      <td>3.701900</td>\n",
       "    </tr>\n",
       "    <tr>\n",
       "      <td>8</td>\n",
       "      <td>3.518300</td>\n",
       "    </tr>\n",
       "    <tr>\n",
       "      <td>9</td>\n",
       "      <td>3.483600</td>\n",
       "    </tr>\n",
       "    <tr>\n",
       "      <td>10</td>\n",
       "      <td>2.445300</td>\n",
       "    </tr>\n",
       "    <tr>\n",
       "      <td>11</td>\n",
       "      <td>2.607900</td>\n",
       "    </tr>\n",
       "    <tr>\n",
       "      <td>12</td>\n",
       "      <td>3.127600</td>\n",
       "    </tr>\n",
       "    <tr>\n",
       "      <td>13</td>\n",
       "      <td>2.697100</td>\n",
       "    </tr>\n",
       "    <tr>\n",
       "      <td>14</td>\n",
       "      <td>2.551200</td>\n",
       "    </tr>\n",
       "    <tr>\n",
       "      <td>15</td>\n",
       "      <td>2.922900</td>\n",
       "    </tr>\n",
       "    <tr>\n",
       "      <td>16</td>\n",
       "      <td>2.554300</td>\n",
       "    </tr>\n",
       "    <tr>\n",
       "      <td>17</td>\n",
       "      <td>2.208900</td>\n",
       "    </tr>\n",
       "    <tr>\n",
       "      <td>18</td>\n",
       "      <td>2.416100</td>\n",
       "    </tr>\n",
       "    <tr>\n",
       "      <td>19</td>\n",
       "      <td>2.692900</td>\n",
       "    </tr>\n",
       "    <tr>\n",
       "      <td>20</td>\n",
       "      <td>3.108100</td>\n",
       "    </tr>\n",
       "    <tr>\n",
       "      <td>21</td>\n",
       "      <td>2.600400</td>\n",
       "    </tr>\n",
       "    <tr>\n",
       "      <td>22</td>\n",
       "      <td>2.620200</td>\n",
       "    </tr>\n",
       "    <tr>\n",
       "      <td>23</td>\n",
       "      <td>2.258700</td>\n",
       "    </tr>\n",
       "    <tr>\n",
       "      <td>24</td>\n",
       "      <td>2.087200</td>\n",
       "    </tr>\n",
       "    <tr>\n",
       "      <td>25</td>\n",
       "      <td>2.555100</td>\n",
       "    </tr>\n",
       "    <tr>\n",
       "      <td>26</td>\n",
       "      <td>3.334400</td>\n",
       "    </tr>\n",
       "    <tr>\n",
       "      <td>27</td>\n",
       "      <td>2.619000</td>\n",
       "    </tr>\n",
       "    <tr>\n",
       "      <td>28</td>\n",
       "      <td>2.406000</td>\n",
       "    </tr>\n",
       "    <tr>\n",
       "      <td>29</td>\n",
       "      <td>2.543300</td>\n",
       "    </tr>\n",
       "    <tr>\n",
       "      <td>30</td>\n",
       "      <td>2.282000</td>\n",
       "    </tr>\n",
       "    <tr>\n",
       "      <td>31</td>\n",
       "      <td>3.032800</td>\n",
       "    </tr>\n",
       "    <tr>\n",
       "      <td>32</td>\n",
       "      <td>2.248200</td>\n",
       "    </tr>\n",
       "    <tr>\n",
       "      <td>33</td>\n",
       "      <td>2.846400</td>\n",
       "    </tr>\n",
       "    <tr>\n",
       "      <td>34</td>\n",
       "      <td>2.316200</td>\n",
       "    </tr>\n",
       "    <tr>\n",
       "      <td>35</td>\n",
       "      <td>2.156300</td>\n",
       "    </tr>\n",
       "    <tr>\n",
       "      <td>36</td>\n",
       "      <td>3.014300</td>\n",
       "    </tr>\n",
       "    <tr>\n",
       "      <td>37</td>\n",
       "      <td>2.365900</td>\n",
       "    </tr>\n",
       "    <tr>\n",
       "      <td>38</td>\n",
       "      <td>2.357300</td>\n",
       "    </tr>\n",
       "    <tr>\n",
       "      <td>39</td>\n",
       "      <td>2.609000</td>\n",
       "    </tr>\n",
       "    <tr>\n",
       "      <td>40</td>\n",
       "      <td>2.042000</td>\n",
       "    </tr>\n",
       "    <tr>\n",
       "      <td>41</td>\n",
       "      <td>2.317200</td>\n",
       "    </tr>\n",
       "    <tr>\n",
       "      <td>42</td>\n",
       "      <td>2.173100</td>\n",
       "    </tr>\n",
       "    <tr>\n",
       "      <td>43</td>\n",
       "      <td>2.575600</td>\n",
       "    </tr>\n",
       "    <tr>\n",
       "      <td>44</td>\n",
       "      <td>3.557500</td>\n",
       "    </tr>\n",
       "    <tr>\n",
       "      <td>45</td>\n",
       "      <td>2.999100</td>\n",
       "    </tr>\n",
       "    <tr>\n",
       "      <td>46</td>\n",
       "      <td>2.518600</td>\n",
       "    </tr>\n",
       "    <tr>\n",
       "      <td>47</td>\n",
       "      <td>2.812900</td>\n",
       "    </tr>\n",
       "    <tr>\n",
       "      <td>48</td>\n",
       "      <td>1.984500</td>\n",
       "    </tr>\n",
       "    <tr>\n",
       "      <td>49</td>\n",
       "      <td>1.594500</td>\n",
       "    </tr>\n",
       "    <tr>\n",
       "      <td>50</td>\n",
       "      <td>2.337900</td>\n",
       "    </tr>\n",
       "    <tr>\n",
       "      <td>51</td>\n",
       "      <td>2.198800</td>\n",
       "    </tr>\n",
       "    <tr>\n",
       "      <td>52</td>\n",
       "      <td>2.093000</td>\n",
       "    </tr>\n",
       "    <tr>\n",
       "      <td>53</td>\n",
       "      <td>2.484500</td>\n",
       "    </tr>\n",
       "    <tr>\n",
       "      <td>54</td>\n",
       "      <td>2.197000</td>\n",
       "    </tr>\n",
       "    <tr>\n",
       "      <td>55</td>\n",
       "      <td>2.676800</td>\n",
       "    </tr>\n",
       "    <tr>\n",
       "      <td>56</td>\n",
       "      <td>1.796300</td>\n",
       "    </tr>\n",
       "    <tr>\n",
       "      <td>57</td>\n",
       "      <td>2.235300</td>\n",
       "    </tr>\n",
       "    <tr>\n",
       "      <td>58</td>\n",
       "      <td>2.453000</td>\n",
       "    </tr>\n",
       "    <tr>\n",
       "      <td>59</td>\n",
       "      <td>2.179400</td>\n",
       "    </tr>\n",
       "    <tr>\n",
       "      <td>60</td>\n",
       "      <td>2.398700</td>\n",
       "    </tr>\n",
       "    <tr>\n",
       "      <td>61</td>\n",
       "      <td>2.088100</td>\n",
       "    </tr>\n",
       "    <tr>\n",
       "      <td>62</td>\n",
       "      <td>2.763000</td>\n",
       "    </tr>\n",
       "    <tr>\n",
       "      <td>63</td>\n",
       "      <td>2.866400</td>\n",
       "    </tr>\n",
       "    <tr>\n",
       "      <td>64</td>\n",
       "      <td>2.852200</td>\n",
       "    </tr>\n",
       "    <tr>\n",
       "      <td>65</td>\n",
       "      <td>2.210800</td>\n",
       "    </tr>\n",
       "    <tr>\n",
       "      <td>66</td>\n",
       "      <td>2.015000</td>\n",
       "    </tr>\n",
       "    <tr>\n",
       "      <td>67</td>\n",
       "      <td>1.740300</td>\n",
       "    </tr>\n",
       "    <tr>\n",
       "      <td>68</td>\n",
       "      <td>2.143500</td>\n",
       "    </tr>\n",
       "    <tr>\n",
       "      <td>69</td>\n",
       "      <td>2.067200</td>\n",
       "    </tr>\n",
       "    <tr>\n",
       "      <td>70</td>\n",
       "      <td>2.809400</td>\n",
       "    </tr>\n",
       "    <tr>\n",
       "      <td>71</td>\n",
       "      <td>2.526300</td>\n",
       "    </tr>\n",
       "    <tr>\n",
       "      <td>72</td>\n",
       "      <td>2.785700</td>\n",
       "    </tr>\n",
       "    <tr>\n",
       "      <td>73</td>\n",
       "      <td>2.518200</td>\n",
       "    </tr>\n",
       "    <tr>\n",
       "      <td>74</td>\n",
       "      <td>2.262000</td>\n",
       "    </tr>\n",
       "    <tr>\n",
       "      <td>75</td>\n",
       "      <td>2.147100</td>\n",
       "    </tr>\n",
       "    <tr>\n",
       "      <td>76</td>\n",
       "      <td>2.480400</td>\n",
       "    </tr>\n",
       "    <tr>\n",
       "      <td>77</td>\n",
       "      <td>1.923000</td>\n",
       "    </tr>\n",
       "    <tr>\n",
       "      <td>78</td>\n",
       "      <td>1.934500</td>\n",
       "    </tr>\n",
       "    <tr>\n",
       "      <td>79</td>\n",
       "      <td>1.622900</td>\n",
       "    </tr>\n",
       "    <tr>\n",
       "      <td>80</td>\n",
       "      <td>1.938200</td>\n",
       "    </tr>\n",
       "    <tr>\n",
       "      <td>81</td>\n",
       "      <td>2.149500</td>\n",
       "    </tr>\n",
       "    <tr>\n",
       "      <td>82</td>\n",
       "      <td>1.924000</td>\n",
       "    </tr>\n",
       "    <tr>\n",
       "      <td>83</td>\n",
       "      <td>2.341000</td>\n",
       "    </tr>\n",
       "    <tr>\n",
       "      <td>84</td>\n",
       "      <td>2.075100</td>\n",
       "    </tr>\n",
       "    <tr>\n",
       "      <td>85</td>\n",
       "      <td>2.192500</td>\n",
       "    </tr>\n",
       "    <tr>\n",
       "      <td>86</td>\n",
       "      <td>2.342300</td>\n",
       "    </tr>\n",
       "    <tr>\n",
       "      <td>87</td>\n",
       "      <td>2.018000</td>\n",
       "    </tr>\n",
       "    <tr>\n",
       "      <td>88</td>\n",
       "      <td>2.026200</td>\n",
       "    </tr>\n",
       "    <tr>\n",
       "      <td>89</td>\n",
       "      <td>2.352700</td>\n",
       "    </tr>\n",
       "    <tr>\n",
       "      <td>90</td>\n",
       "      <td>2.094100</td>\n",
       "    </tr>\n",
       "    <tr>\n",
       "      <td>91</td>\n",
       "      <td>2.346200</td>\n",
       "    </tr>\n",
       "    <tr>\n",
       "      <td>92</td>\n",
       "      <td>1.973400</td>\n",
       "    </tr>\n",
       "    <tr>\n",
       "      <td>93</td>\n",
       "      <td>1.981000</td>\n",
       "    </tr>\n",
       "    <tr>\n",
       "      <td>94</td>\n",
       "      <td>2.635600</td>\n",
       "    </tr>\n",
       "    <tr>\n",
       "      <td>95</td>\n",
       "      <td>2.421400</td>\n",
       "    </tr>\n",
       "    <tr>\n",
       "      <td>96</td>\n",
       "      <td>2.607400</td>\n",
       "    </tr>\n",
       "  </tbody>\n",
       "</table><p>"
      ],
      "text/plain": [
       "<IPython.core.display.HTML object>"
      ]
     },
     "metadata": {},
     "output_type": "display_data"
    },
    {
     "name": "stderr",
     "output_type": "stream",
     "text": [
      "/srv/data1/fuxiaoqin/conda_envs/py2/lib/python3.12/site-packages/peft/utils/save_and_load.py:260: UserWarning: Setting `save_embedding_layers` to `True` as the embedding layer has been resized during finetuning.\n",
      "  warnings.warn(\n"
     ]
    },
    {
     "name": "stdout",
     "output_type": "stream",
     "text": [
      "QLoRA fine-tuning: 32.12seconds\n"
     ]
    }
   ],
   "source": [
    "# Fine-tuning Llama 3.2 1B model with QLoRA and timeing\n",
    "\n",
    "start_time = time.time()\n",
    "\n",
    "QLoRA_result = trainer.train()\n",
    "\n",
    "end_time = time.time()\n",
    "qlora_time = end_time - start_time\n",
    "print(\"QLoRA fine-tuning: {:.2f}seconds\".format(qlora_time))"
   ]
  },
  {
   "cell_type": "code",
   "execution_count": null,
   "id": "bf913170-d550-4900-8074-8c464c880748",
   "metadata": {},
   "outputs": [
    {
     "name": "stdout",
     "output_type": "stream",
     "text": [
      "GPU = NVIDIA H100 PCIe. Max memory = 79.216 GB.\n",
      "11.117 GB of memory reserved.\n",
      "QLoRA reserved memory for the response after fine-tuning = 0.0 GB.\n",
      "QLoRA reserved memory for the response after fine-tuning % of max memory = 0.0 %.\n"
     ]
    }
   ],
   "source": [
    "# Memory statistics after fine-tuning Llama 3.2 1B model with QLoRA  \n",
    "gpu_stats = torch.cuda.get_device_properties(0)\n",
    "start_gpu_memory_qlora = round(torch.cuda.max_memory_reserved() / 1024 / 1024 / 1024,3)\n",
    "max_memory_qlora = round(gpu_stats.total_memory / 1024 / 1024 / 1024, 3)\n",
    "print(f\"GPU = {gpu_stats.name}. Max memory = {max_memory_qlora} GB.\")\n",
    "print(f\"{start_gpu_memory_qlora} GB of memory reserved.\")\n",
    "\n",
    "used_memory = round(torch.cuda.max_memory_reserved() / 1024 / 1024 / 1024, 3)\n",
    "used_memory_for_qlora = round(used_memory - start_gpu_memory, 3)\n",
    "used_percentage = round(used_memory         /max_memory*100, 3)\n",
    "qlora_percentage = round(used_memory_for_lora/max_memory*100, 3)\n",
    "# print(f\"Peak reserved memory = {used_memory} GB.\")\n",
    "print(f\"QLoRA reserved memory for the response after fine-tuning = {used_memory_for_qlora} GB.\")\n",
    "# print(f\"Peak reserved memory % of max memory = {used_percentage} %.\")\n",
    "print(f\"QLoRA reserved memory for the response after fine-tuning % of max memory = {qlora_percentage} %.\")"
   ]
  },
  {
   "cell_type": "code",
   "execution_count": null,
   "id": "41ec863c-fb93-4bc2-9483-30eb8be465a2",
   "metadata": {},
   "outputs": [
    {
     "data": {
      "application/vnd.jupyter.widget-view+json": {
       "model_id": "d18692602c6543c7bc42627e177fd1fd",
       "version_major": 2,
       "version_minor": 0
      },
      "text/plain": [
       "tokenizer.json:   0%|          | 0.00/17.2M [00:00<?, ?B/s]"
      ]
     },
     "metadata": {},
     "output_type": "display_data"
    },
    {
     "data": {
      "application/vnd.jupyter.widget-view+json": {
       "model_id": "91129726d48540559a5f5a998ed8712c",
       "version_major": 2,
       "version_minor": 0
      },
      "text/plain": [
       "README.md:   0%|          | 0.00/5.17k [00:00<?, ?B/s]"
      ]
     },
     "metadata": {},
     "output_type": "display_data"
    },
    {
     "name": "stderr",
     "output_type": "stream",
     "text": [
      "/srv/data1/fuxiaoqin/conda_envs/py2/lib/python3.12/site-packages/peft/utils/save_and_load.py:260: UserWarning: Setting `save_embedding_layers` to `True` as the embedding layer has been resized during finetuning.\n",
      "  warnings.warn(\n"
     ]
    },
    {
     "data": {
      "application/vnd.jupyter.widget-view+json": {
       "model_id": "dbea77b9e8214a5587ce91ee38db70fd",
       "version_major": 2,
       "version_minor": 0
      },
      "text/plain": [
       "adapter_model.safetensors:   0%|          | 0.00/1.10G [00:00<?, ?B/s]"
      ]
     },
     "metadata": {},
     "output_type": "display_data"
    },
    {
     "data": {
      "text/plain": [
       "CommitInfo(commit_url='https://huggingface.co/xfu20/Building_energy_Llama_1B_QLoRA/commit/46757499d7f4e2a0b6f4ff530e3969490e496da2', commit_message='Upload model', commit_description='', oid='46757499d7f4e2a0b6f4ff530e3969490e496da2', pr_url=None, repo_url=RepoUrl('https://huggingface.co/xfu20/Building_energy_Llama_1B_QLoRA', endpoint='https://huggingface.co', repo_type='model', repo_id='xfu20/Building_energy_Llama_1B_QLoRA'), pr_revision=None, pr_num=None)"
      ]
     },
     "execution_count": 31,
     "metadata": {},
     "output_type": "execute_result"
    }
   ],
   "source": [
    "# Upload the tokenizer and model, which was fine-tuned with QLoRA, to Hugging Face\n",
    "tokenizer.push_to_hub(\"Building_energy_Llama_1B_QLoRA\")\n",
    "model.push_to_hub(\"Building_energy_Llama_1B_QLoRA\")"
   ]
  },
  {
   "cell_type": "code",
   "execution_count": null,
   "id": "221c4b04-9284-4425-97d1-79ed425b9253",
   "metadata": {},
   "outputs": [
    {
     "name": "stdout",
     "output_type": "stream",
     "text": [
      "***** train metrics *****\n",
      "  epoch                    =     0.9948\n",
      "  total_flos               =   540757GF\n",
      "  train_loss               =     2.5171\n",
      "  train_runtime            = 0:00:31.66\n",
      "  train_samples_per_second =      6.095\n",
      "  train_steps_per_second   =      3.032\n"
     ]
    },
    {
     "data": {
      "image/png": "[encoded data removed]",
      "text/plain": [
       "<Figure size 800x500 with 1 Axes>"
      ]
     },
     "metadata": {},
     "output_type": "display_data"
    }
   ],
   "source": [
    "# Plot the training loss of the Llama 3.2 1B model fine-tuned with QLoRA\n",
    "qlora_losses, qlora_steps = finetuning_results(QLoRA_result, \"QLoRA Fine-tuning Loss-step Curve\")"
   ]
  },
  {
   "cell_type": "code",
   "execution_count": null,
   "id": "e1d790bc-e1be-4dd5-8622-1d8f10dcb77f",
   "metadata": {},
   "outputs": [],
   "source": [
    "import numpy as np\n",
    "\n",
    "\n",
    "# Plot and compare the training loss curves of two models\n",
    "def two_loss_curves(losses1, steps1, losses2, steps2, plot_title):\n",
    "\n",
    "    # Plotting\n",
    "    plt.figure(figsize=(10, 6))\n",
    "    plt.plot(steps1, losses1, label='LoRA', color='red', marker='o')\n",
    "    plt.plot(steps2, losses2, label='QLoRA', color='green', marker='x')   \n",
    "    plt.xlabel('Fine-tuning Step')\n",
    "    plt.ylabel('Loss')\n",
    "    plt.title(plot_title)\n",
    "    plt.legend()\n",
    "    plt.grid(True)\n",
    "    plt.tight_layout()\n",
    "    \n",
    "    # Save the figure\n",
    "    # plt.savefig(\"loss_comparison_plot.png\", dpi=300)\n",
    "    plt.show()"
   ]
  },
  {
   "cell_type": "code",
   "execution_count": null,
   "id": "70044f59-1516-459d-8641-e273a22a3e80",
   "metadata": {},
   "outputs": [
    {
     "data": {
      "image/png": "[encoded data removed]",
      "text/plain": [
       "<Figure size 1000x600 with 1 Axes>"
      ]
     },
     "metadata": {},
     "output_type": "display_data"
    }
   ],
   "source": [
    "# Plot and compare the training loss curves of Llama 3.2 1B models fine-tuned with LoRA and QLoRA\n",
    "two_loss_curves(lora_losses, lora_steps, qlora_losses, qlora_steps, \"Comparative Fine-tuning Loss Curves: LoRA vs. QLoRA\")"
   ]
  },
  {
   "cell_type": "code",
   "execution_count": null,
   "id": "e2ed4ee4-9c50-4151-adf7-f9ed1753389c",
   "metadata": {
    "scrolled": true
   },
   "outputs": [
    {
     "name": "stdout",
     "output_type": "stream",
     "text": [
      "len(responses) = 17\n"
     ]
    }
   ],
   "source": [
    "# Get the answers from the tokenizer and the Llama 3.2 1B model fine-tuned with QLoRA according to the question inputs\n",
    "\n",
    "responses = get_responses(data_inputs, model, tokenizer)\n",
    "print(\"len(responses) =\", len(responses))"
   ]
  },
  {
   "cell_type": "code",
   "execution_count": null,
   "id": "cee4b904-10e5-4b0f-98f0-d2b16c649ccc",
   "metadata": {},
   "outputs": [
    {
     "name": "stdout",
     "output_type": "stream",
     "text": [
      "BLEU scores with fineturning: 0.018822408180583727\n",
      "ROUGE-1 scores r, p, f with fine-turning: 0.21165810224633752, 0.24403384389543556, 0.2076757565786115 \n",
      "\n",
      "ROUGE-2 scores r, p, f withfine-turning: 0.08092183481382263, 0.08517924264672035, 0.07275549534437709 \n",
      "\n",
      "ROUGE-l scores r, p, f with fine-turning: 0.2000023288258582, 0.22872194990707098, 0.19527465578741787 \n",
      "\n"
     ]
    },
    {
     "name": "stderr",
     "output_type": "stream",
     "text": [
      "Some weights of RobertaModel were not initialized from the model checkpoint at roberta-large and are newly initialized: ['roberta.pooler.dense.bias', 'roberta.pooler.dense.weight']\n",
      "You should probably TRAIN this model on a down-stream task to be able to use it for predictions and inference.\n"
     ]
    },
    {
     "name": "stdout",
     "output_type": "stream",
     "text": [
      "calculating scores...\n",
      "computing bert embedding.\n"
     ]
    },
    {
     "data": {
      "application/vnd.jupyter.widget-view+json": {
       "model_id": "ac5f9afe227a404c91f320516597aa21",
       "version_major": 2,
       "version_minor": 0
      },
      "text/plain": [
       "  0%|          | 0/1 [00:00<?, ?it/s]"
      ]
     },
     "metadata": {},
     "output_type": "display_data"
    },
    {
     "name": "stdout",
     "output_type": "stream",
     "text": [
      "computing greedy matching.\n"
     ]
    },
    {
     "data": {
      "application/vnd.jupyter.widget-view+json": {
       "model_id": "36bf781eeb4e454e9393cd2cb5c41054",
       "version_major": 2,
       "version_minor": 0
      },
      "text/plain": [
       "  0%|          | 0/1 [00:00<?, ?it/s]"
      ]
     },
     "metadata": {},
     "output_type": "display_data"
    },
    {
     "name": "stdout",
     "output_type": "stream",
     "text": [
      "done in 0.12 seconds, 145.13 sentences/sec\n",
      "type(P): <class 'torch.Tensor'>\n",
      "\n",
      "BERTScore-Precision with fineturning: -0.19142071902751923\n",
      "\n",
      "\n",
      "BERTScore-Recall with fineturning: 0.00493079237639904\n",
      "\n",
      "BERTScore-F-Measure with fineturning: -0.09543934464454651\n"
     ]
    }
   ],
   "source": [
    "# Save the results and metrics of the Llama 3.2 1B model fine-tuned with QLoRA to CSV files\n",
    "\n",
    "save_results_csv(\"/srv/data1/fuxiaoqin/Results_LM32_1B_QA_QLoRA.csv\", data_instructions, data_inputs, data_outputs, responses)\n",
    "compute_save_metrics(references, responses, \"/srv/data1/fuxiaoqin/Metrics_LM32_1B_QA_QLoRA.csv\",\"LM32_1B_QLoRA\")"
   ]
  },
  {
   "cell_type": "code",
   "execution_count": null,
   "id": "eb0415fe-a8ab-4ee8-84d6-a402dc13bdc7",
   "metadata": {},
   "outputs": [],
   "source": [
    "#  Comparing the evaluation metrics of two models\n",
    "\n",
    "import pandas as pd\n",
    "import numpy as np\n",
    "import matplotlib.pyplot as plt\n",
    "\n",
    "def dataFromCSV(file_name):\n",
    "    df = pd.read_csv(file_name)\n",
    "    data = df.iloc[1].to_frame()\n",
    "    # Clean data\n",
    "    data = data.replace('Not Available', 0)\n",
    "    data.fillna(0)\n",
    "    data = data.replace(np.nan, 0, regex=True)\n",
    "    index = ['Model', 'BLEU', 'ROUGE_1_r', 'ROUGE_1_p', 'ROUGE_1_f', 'ROUGE_2_r', 'ROUGE_2_p', 'ROUGE_2_f', 'ROUGE_L_r', 'ROUGE_L_p', 'ROUGE_L_f', 'BERT_R', 'BERT_P', 'BERT_F1', 'Fine-Tuning_Time']\n",
    "    data.index = index\n",
    "    data = data.drop(index=[\"Model\", \"Fine-Tuning_Time\"])\n",
    "    # print(f\"data = {data}\")\n",
    "    return data\n",
    "\n",
    "def compare2CSV(file1, file2):\n",
    "    metrics1 =  dataFromCSV(file1)\n",
    "    metrics2 =  dataFromCSV(file2)\n",
    "    # metrics12  =  metrics1.join(metrics2, lsuffix='LoRA', rsuffix='QLoRA')\n",
    "    metrics1.columns = ['LoRA']\n",
    "    metrics2.columns = ['QLoRA']\n",
    "    metrics12 = metrics1.join(metrics2)\n",
    "    metrics12 = metrics12.reset_index()\n",
    "    metrics12 = metrics12.rename(columns={\"index\": \"Metric\"})\n",
    "\n",
    "    metrics12['LoRA'] = pd.to_numeric(metrics12['LoRA'], errors='coerce')\n",
    "    metrics12['QLoRA'] = pd.to_numeric(metrics12['QLoRA'], errors='coerce')\n",
    "    # print(f\"metrics12 = {metrics12}\")\n",
    "\n",
    "    plt.figure(figsize=(20, 8))\n",
    "\n",
    "    # Set the positions of the bars on the x-axis\n",
    "    x_range = range(len(metrics12))\n",
    "\n",
    "    bar_width = 0.35  # Bar width to allow space between the two bars\n",
    "    bar_width = 0.35  # Bar width to allow space between the two bars\n",
    "    bars_lora = plt.bar([i - bar_width / 2 for i in x_range], metrics12['LoRA'], width=bar_width, label='LoRA', color='blue', alpha=0.7)\n",
    "    bars_qlora = plt.bar([i + bar_width / 2 for i in x_range], metrics12['QLoRA'], width=bar_width, label='QLoRA', color='orange', alpha=0.7)\n",
    "\n",
    "    # Add value labels on each bar\n",
    "    for bar in bars_lora:\n",
    "        plt.text(bar.get_x() + bar.get_width() / 2, bar.get_height(), round(bar.get_height(), 2), ha='center', va='bottom')\n",
    "\n",
    "    for bar in bars_qlora:\n",
    "        plt.text(bar.get_x() + bar.get_width() / 2, bar.get_height(), round(bar.get_height(), 2), ha='center', va='bottom')\n",
    "\n",
    "    # Add labels and title\n",
    "    plt.xlabel('Metrics', fontsize=12)\n",
    "    plt.ylabel('Values', fontsize=12)\n",
    "    plt.title('Comparison of LoRA and QLoRA Fine-Tuning Llama 3.2 1B', fontsize=12)\n",
    "\n",
    "    # Set the x-tick labels to the metric names, rotating them for readability\n",
    "    plt.xticks(x_range, metrics12['Metric'], rotation=45)\n",
    "\n",
    "    # Add a legend to distinguish between LoRA and QLoRA bars\n",
    "    plt.legend()\n",
    "\n",
    "    # Display the plot with a tight layout to avoid clipping\n",
    "    plt.tight_layout()\n",
    "\n",
    "    # Show the plot\n",
    "    plt.show()"
   ]
  },
  {
   "cell_type": "code",
   "execution_count": null,
   "id": "fbc59972-166e-401f-8155-9635f055d7b4",
   "metadata": {},
   "outputs": [
    {
     "data": {
      "image/png": "[encoded data removed]",
      "text/plain": [
       "<Figure size 2000x800 with 1 Axes>"
      ]
     },
     "metadata": {},
     "output_type": "display_data"
    }
   ],
   "source": [
    "#  Comparing the evaluation metrics of Llama 3.2 1B models fine-tuned with LoRA and QLoRA  \n",
    "compare2CSV(\"/srv/data1/fuxiaoqin/Metrics_LM32_1B_QA_LoRA.csv\", \"/srv/data1/fuxiaoqin/Metrics_LM32_1B_QA_QLoRA.csv\")"
   ]
  },
  {
   "cell_type": "code",
   "execution_count": null,
   "id": "e12a18ae-3511-4727-b48d-178c934970a5",
   "metadata": {},
   "outputs": [
    {
     "data": {
      "image/png": "[encoded data removed]",
      "text/plain": [
       "<Figure size 640x480 with 1 Axes>"
      ]
     },
     "metadata": {},
     "output_type": "display_data"
    }
   ],
   "source": [
    "#  Comparing time-costs of fine-tuing Llama 3.2 1B models with LoRA and QLoRA\n",
    "import matplotlib.pyplot as plt\n",
    "\n",
    "fig, ax  = plt.subplots()\n",
    "ax.bar([1, 2], [lora_time, qlora_time], width=1,\n",
    "       tick_label=['LoRA', 'QLoRA'], color='skyblue', align='center')\n",
    "ax.bar_label(ax.containers[0])\n",
    "plt.title('Fine-tuning Time Cost Comparison')\n",
    "plt.ylabel('Second')\n",
    "plt.show()"
   ]
  }
 ],
 "metadata": {
  "kernelspec": {
   "display_name": "py2",
   "language": "python",
   "name": "py2"
  },
  "language_info": {
   "codemirror_mode": {
    "name": "ipython",
    "version": 3
   },
   "file_extension": ".py",
   "mimetype": "text/x-python",
   "name": "python",
   "nbconvert_exporter": "python",
   "pygments_lexer": "ipython3",
   "version": "3.12.9"
  }
 },
 "nbformat": 4,
 "nbformat_minor": 5
}
