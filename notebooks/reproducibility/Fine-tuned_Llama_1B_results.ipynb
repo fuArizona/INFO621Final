{
 "cells": [
  {
   "cell_type": "code",
   "execution_count": 16,
   "id": "e086e891-06af-4ad2-a000-e247aed01055",
   "metadata": {},
   "outputs": [],
   "source": [
    "import torch\n",
    "import transformers\n",
    "from transformers import AutoTokenizer, AutoModelForCausalLM\n",
    "from transformers import BitsAndBytesConfig,LlamaTokenizer\n",
    "from huggingface_hub import notebook_login\n",
    "from datasets import load_dataset\n",
    "from peft import prepare_model_for_kbit_training\n",
    "from peft import LoraConfig, get_peft_model\n",
    "from datetime import datetime"
   ]
  },
  {
   "cell_type": "code",
   "execution_count": 2,
   "id": "340f876e-8ee8-4553-bc49-eeabe528de65",
   "metadata": {},
   "outputs": [],
   "source": []
  },
  {
   "cell_type": "code",
   "execution_count": 3,
   "id": "5fdb04c7-13a9-4ae9-9885-353b747581cd",
   "metadata": {},
   "outputs": [],
   "source": [
    "import os\n",
    "os.environ[\"WANDB_DISABLED\"] = \"true\""
   ]
  },
  {
   "cell_type": "code",
   "execution_count": 38,
   "id": "71cfd76c-bc04-428d-b911-a24b7f7c72ec",
   "metadata": {},
   "outputs": [],
   "source": [
    "from trl import SFTTrainer, setup_chat_format\n",
    "import json\n",
    "from peft import PeftModel, PeftConfig,AutoPeftModelForCausalLM\n",
    "\n",
    "def load_model_tokenizer_questions(base_model, lora_model, question_file):\n",
    "    \n",
    "    tokenizer = AutoTokenizer.from_pretrained(base_model)\n",
    "    model = AutoModelForCausalLM.from_pretrained(base_model, device_map=\"auto\")\n",
    "    model.resize_token_embeddings(128258)  # Or len(tokenizer) if you're using the LoRA tokenizer\n",
    "    model = PeftModel.from_pretrained(model, lora_model, device_map=\"auto\")\n",
    "    \n",
    "\n",
    "    model, tokenizer = setup_chat_format(model, tokenizer)\n",
    "\n",
    "\n",
    "    \n",
    "    with open(question_file, 'r', encoding='utf-8') as file:\n",
    "    # with open('/home/fuxiaoqin/Downloads/EngineeringReference1_All_TESTQAGPT4omini.json', 'r', encoding='utf-8') as file:\n",
    "        json_obj = json.load(file)\n",
    "\n",
    "    # print(json_obj)\n",
    "    # print(json_obj[0])\n",
    "    # data_chunkis = []\n",
    "    data_instructions = []\n",
    "    data_inputs = []\n",
    "    data_outputs = []\n",
    "    for piece in json_obj:\n",
    "        # print(\"piece\", piece['input'])\n",
    "        # data_chunkis.append(piece['chunki'])\n",
    "        data_instructions.append(piece['instruction'])\n",
    "        data_inputs.append(piece['input'])\n",
    "        data_outputs.append(piece['output'])\n",
    "\n",
    "    print(len(data_instructions))\n",
    "    print(len(data_inputs))\n",
    "    print(len(data_outputs))\n",
    "\n",
    "    return model, tokenizer, data_instructions, data_inputs, data_outputs"
   ]
  },
  {
   "cell_type": "code",
   "execution_count": null,
   "id": "6e979dde-1d48-432b-8830-aa81fbe82650",
   "metadata": {},
   "outputs": [],
   "source": [
    "model, tokenizer, data_instructions, data_inputs, data_outputs = load_model_tokenizer_questions(\n",
    "    base_model=\"meta-llama/Llama-3.2-1B\",\n",
    "    lora_model=\"xfu20/Building_energy_Llama_1B_LoRA\",\n",
    "    question_file=\"/srv/data1/fuxiaoqin/Downloads/EngineeringReference1_5_TESTQAGPT4omini.json\"\n",
    ")"
   ]
  },
  {
   "cell_type": "code",
   "execution_count": 42,
   "id": "a075af73-89ea-4d99-8d69-056631177c44",
   "metadata": {},
   "outputs": [],
   "source": [
    "def get_responses(data_inputs, model, tokenizer):\n",
    "    responses = []\n",
    "    for dp in data_inputs:\n",
    "    # for i in range(21,27):\n",
    "        # dp = data_inputs[i]\n",
    "        messages = [\n",
    "            {\n",
    "                \"role\": \"user\",\n",
    "                # \"content\": \"What is the climate of a building located in west Arizona? (In a sentence)\"\n",
    "                \"content\": dp + \" (In a sentence)\"\n",
    "            }\n",
    "        ]\n",
    "        \n",
    "        prompt = tokenizer.apply_chat_template(messages, tokenize=False,\n",
    "                                               add_generation_prompt=True)\n",
    "        \n",
    "        inputs = tokenizer(prompt, return_tensors='pt', padding=True,\n",
    "                           truncation=True).to(\"cuda\")\n",
    "        \n",
    "        outputs = model.generate(**inputs, max_length=150,\n",
    "                                 num_return_sequences=1)\n",
    "        \n",
    "        text = tokenizer.decode(outputs[0], skip_special_tokens=True)\n",
    "        #  print(text)\n",
    "        # print(text.split(\"assistant\"))\n",
    "        # print(dp +\" \"+text.split(\"assistant\")[1])\n",
    "        response = text.split(\"assistant\")[1].replace(\"\\n\",\"\").split(\", \")[0].split(\". \")[0].strip()+\".\"\n",
    "        responses.append(response)\n",
    "    return responses"
   ]
  },
  {
   "cell_type": "code",
   "execution_count": 44,
   "id": "6be1fc09-fef9-4c93-af31-a0d311348b85",
   "metadata": {},
   "outputs": [
    {
     "name": "stdout",
     "output_type": "stream",
     "text": [
      "len(responses) = 17\n"
     ]
    }
   ],
   "source": [
    "lora_responses = get_responses(data_inputs, model, tokenizer)\n",
    "# print(f\"lora_responses = {lora_responses}\")\n",
    "print(\"len(responses) =\", len(lora_responses))"
   ]
  },
  {
   "cell_type": "code",
   "execution_count": 46,
   "id": "55b36e2a-98e1-487a-8c7e-6195f9cd8c84",
   "metadata": {},
   "outputs": [],
   "source": [
    "def save_results_csv(fileName, instructions, inputs, outputs, predictions):\n",
    "    min_len = 17 # min (len(instructions), len(inputs), len(outputs), len(predictions))\n",
    "    wf = open(fileName, 'w', encoding=\"utf8\")\n",
    "    wf.write(\"Instruction,Input,Output,Predicted\\n\")\n",
    "    for i in range(min_len):\n",
    "        wf.write(str(instructions[i])+','+str(inputs[i])+',\"'+str(outputs[i])+'\",\"'+str(predictions[i])+'\"\\n')\n",
    "    wf.close()"
   ]
  },
  {
   "cell_type": "code",
   "execution_count": 47,
   "id": "4ec74c04-6536-4c49-af53-dede1794a161",
   "metadata": {},
   "outputs": [
    {
     "name": "stdout",
     "output_type": "stream",
     "text": [
      "len(references) 17\n"
     ]
    }
   ],
   "source": [
    "references = data_outputs\n",
    "print(\"len(references)\", len(references))\n",
    "# print(\"len(pretrained_responses)\", len(pretrained_responses))\n",
    "\n",
    "from nltk.translate.bleu_score import sentence_bleu, SmoothingFunction\n",
    "from numpy import *\n",
    "from rouge import Rouge\n",
    "from bert_score import score\n",
    "\n",
    "def compute_bleu(reference, hypothesis):\n",
    "    reference = [reference.split()]\n",
    "    hypothesis = hypothesis.split()\n",
    "    smoothie = SmoothingFunction().method4\n",
    "    return sentence_bleu(reference, hypothesis, smoothing_function=smoothie)\n",
    "\n",
    "def save_metrics_csv(fileName, modelName, bleus, rouge1, rouge2, rouge3, b_r, b_p, b_f):\n",
    "    bleu = mean(bleus)\n",
    "    r1_r=rouge1['r']\n",
    "    r1_p=rouge1['p']\n",
    "    r1_f=rouge1['f']\n",
    "    r2_r=rouge2['r']\n",
    "    r2_p=rouge2['p']\n",
    "    r2_f=rouge2['f']\n",
    "    r3_r=rouge3['r']\n",
    "    r3_p=rouge3['p']\n",
    "    r3_f=rouge3['f']    \n",
    "    b_r = str(b_r).replace(\"tensor(\",\"\").replace(\")\",\"\")\n",
    "    b_p = str(b_p).replace(\"tensor(\",\"\").replace(\")\",\"\")\n",
    "    b_f = str(b_f).replace(\"tensor(\",\"\").replace(\")\",\"\")\n",
    "    # if os.path.exists(fileName):\n",
    "    #     r = open(fileName, 'a', encoding=\"utf8\")\n",
    "    #     r.write(str(modelName)+\",\"+str(bleu)+\",\"+str(r1_r)+\",\"+str(r1_p)+\",\"+str(r1_f)+\",\"+str(r2_r)+\",\"+str(r2_p)+\",\"+str(r2_f)+\",\"+str(r3_r)+\",\"+str(r3_p)+\",\"+str(r3_f)+\",\"+str(b_r)+\",\"+str(b_p)+\",\"+str(b_f)+\",\\n\")\n",
    "    #     r.close()\n",
    "    # else:\n",
    "    r = open(fileName, 'w', encoding=\"utf8\")\n",
    "    r.write(\"Training,BLEU,ROUGE-1,,,ROUGE-2,,,ROUGE-L,,,BERT,,,Fineturning\\n\")\n",
    "    r.write(\"/Testing,,r ,p,f,r ,p,f,r ,p,f,R,P,F1,Time\\n\")\n",
    "    r.write(str(modelName)+\",\"+str(bleu)+\",\"+str(r1_r)+\",\"+str(r1_p)+\",\"+str(r1_f)+\",\"+str(r2_r)+\",\"+str(r2_p)+\",\"+str(r2_f)+\",\"+str(r3_r)+\",\"+str(r3_p)+\",\"+str(r3_f)+\",\"+str(b_r)+\",\"+str(b_p)+\",\"+str(b_f)+\",\\n\")\n",
    "    r.close()  \n",
    "        \n",
    "def compute_save_metrics(references, responses, fileName, modelName):\n",
    "    # BLEU scores\n",
    "    bleu_scores = [compute_bleu(ref, hypo) for ref, hypo in zip(references, responses)]\n",
    "    print(\"BLEU scores with fineturning:\", mean(bleu_scores))\n",
    "    \n",
    "    # ROUGE scores\n",
    "    from rouge import Rouge\n",
    "    rouge = Rouge()\n",
    "    rouge1_r=0\n",
    "    rouge1_p=0\n",
    "    rouge1_f=0\n",
    "    rouge2_r=0\n",
    "    rouge2_p=0\n",
    "    rouge2_f=0\n",
    "    rougel_r=0\n",
    "    rougel_p=0\n",
    "    rougel_f=0\n",
    "    rouge1 = {'r':0, 'p':0, 'f':0}\n",
    "    rouge2 = {'r':0, 'p':0, 'f':0}\n",
    "    rougel = {'r':0, 'p':0, 'f':0}\n",
    "    try:\n",
    "        rouge_scoress = rouge.get_scores(responses, references)\n",
    "        for rouge_scores in rouge_scoress:\n",
    "            rouge1=rouge_scores['rouge-1']\n",
    "            rouge1_r += rouge1['r']\n",
    "            rouge1_p += rouge1['p']\n",
    "            rouge1_f += rouge1['f']\n",
    "            rouge2=rouge_scores['rouge-2']   \n",
    "            rouge2_r += rouge2['r']\n",
    "            rouge2_p += rouge2['p']\n",
    "            rouge2_f += rouge2['f']\n",
    "            rougel=rouge_scores['rouge-l']       \n",
    "            rougel_r += rougel['r']\n",
    "            rougel_p += rougel['p']\n",
    "            rougel_f += rougel['f']\n",
    "        lenRouge = len(rouge_scoress)\n",
    "        rouge1_r /= lenRouge\n",
    "        rouge1_p /= lenRouge\n",
    "        rouge1_f /= lenRouge\n",
    "        rouge2_r /= lenRouge\n",
    "        rouge2_p /= lenRouge\n",
    "        rouge2_f /= lenRouge\n",
    "        rougel_r /= lenRouge\n",
    "        rougel_p /= lenRouge\n",
    "        rougel_f /= lenRouge        \n",
    "    except:\n",
    "        print(\"No rouge scores\")\n",
    "    # ROUGE-1 Scores\n",
    "    print(f\"ROUGE-1 scores r, p, f with fine-turning: {rouge1_r}, {rouge1_p}, {rouge1_f} \\n\")    \n",
    "    # ROUGE-2 scores\n",
    "    print(f\"ROUGE-2 scores r, p, f withfine-turning: {rouge2_r}, {rouge2_p}, {rouge2_f} \\n\")    \n",
    "    # ROUGE-L scores\n",
    "    print(f\"ROUGE-l scores r, p, f with fine-turning: {rougel_r}, {rougel_p}, {rougel_f} \\n\")\n",
    "    # ROUGE-W scores    \n",
    "    \n",
    "    #  BERTScore\n",
    "    from bert_score import score\n",
    "    # Calculate BERTScore\n",
    "    P, R, F1 = score(responses, references, lang=\"en\", rescale_with_baseline=True, verbose=True)\n",
    "    print(f\"type(P): {type(P)}\\n\")\n",
    "    P = torch.mean(P)\n",
    "    R = torch.mean(R)\n",
    "    F1 = torch.mean(F1)\n",
    "    # Print Rbert, Pbert and Fbert\n",
    "    \n",
    "    print(f\"BERTScore-Precision with fineturning: {P}\\n\")\n",
    "    print(f\"\\nBERTScore-Recall with fineturning: {R}\\n\")\n",
    "    print(f\"BERTScore-F-Measure with fineturning: {F1}\")\n",
    "\n",
    "    save_metrics_csv(fileName, modelName, bleu_scores, rouge1, rouge2, rougel, P, R, F1)"
   ]
  },
  {
   "cell_type": "code",
   "execution_count": 48,
   "id": "3dcbd608-9e14-404b-8184-61dcf5f51d03",
   "metadata": {},
   "outputs": [
    {
     "name": "stdout",
     "output_type": "stream",
     "text": [
      "BLEU scores with fineturning: 0.020067463683855816\n",
      "ROUGE-1 scores r, p, f with fine-turning: 0.22398872083082608, 0.25810381102853763, 0.22602990687335997 \n",
      "\n",
      "ROUGE-2 scores r, p, f withfine-turning: 0.09691880868618351, 0.09844140481700511, 0.08824853189482684 \n",
      "\n",
      "ROUGE-l scores r, p, f with fine-turning: 0.19787964472175, 0.22384547132902147, 0.19875092456932886 \n",
      "\n"
     ]
    },
    {
     "name": "stderr",
     "output_type": "stream",
     "text": [
      "Some weights of RobertaModel were not initialized from the model checkpoint at roberta-large and are newly initialized: ['roberta.pooler.dense.bias', 'roberta.pooler.dense.weight']\n",
      "You should probably TRAIN this model on a down-stream task to be able to use it for predictions and inference.\n"
     ]
    },
    {
     "name": "stdout",
     "output_type": "stream",
     "text": [
      "calculating scores...\n",
      "computing bert embedding.\n"
     ]
    },
    {
     "data": {
      "application/vnd.jupyter.widget-view+json": {
       "model_id": "8f7137ef52df45c69d2fe4819e2d8f19",
       "version_major": 2,
       "version_minor": 0
      },
      "text/plain": [
       "  0%|          | 0/1 [00:00<?, ?it/s]"
      ]
     },
     "metadata": {},
     "output_type": "display_data"
    },
    {
     "name": "stdout",
     "output_type": "stream",
     "text": [
      "computing greedy matching.\n"
     ]
    },
    {
     "data": {
      "application/vnd.jupyter.widget-view+json": {
       "model_id": "e35275a039cf4ee8adfa694ca7503f16",
       "version_major": 2,
       "version_minor": 0
      },
      "text/plain": [
       "  0%|          | 0/1 [00:00<?, ?it/s]"
      ]
     },
     "metadata": {},
     "output_type": "display_data"
    },
    {
     "name": "stdout",
     "output_type": "stream",
     "text": [
      "done in 0.21 seconds, 79.88 sentences/sec\n",
      "type(P): <class 'torch.Tensor'>\n",
      "\n",
      "BERTScore-Precision with fineturning: -0.2017851322889328\n",
      "\n",
      "\n",
      "BERTScore-Recall with fineturning: 0.008582222275435925\n",
      "\n",
      "BERTScore-F-Measure with fineturning: -0.10147188603878021\n"
     ]
    }
   ],
   "source": [
    "save_results_csv(\"/srv/data1/fuxiaoqin/Results_LM32_1B_QA_LoRA.csv\", data_instructions, data_inputs, data_outputs, responses)\n",
    "compute_save_metrics(references, lora_responses, \"/srv/data1/fuxiaoqin/Metrics_LM32_1B_QA_LoRA.csv\",\"LM32_1B\")"
   ]
  },
  {
   "cell_type": "code",
   "execution_count": null,
   "id": "b6d6fc6c-d5a3-478b-8b0e-80a6f52e6260",
   "metadata": {},
   "outputs": [],
   "source": [
    "model, tokenizer, data_instructions, data_inputs, data_outputs = load_model_tokenizer_questions(\n",
    "    base_model=\"meta-llama/Llama-3.2-1B\",\n",
    "    lora_model=\"xfu20/Building_energy_Llama_1B_QLoRA\",\n",
    "    question_file=\"/srv/data1/fuxiaoqin/Downloads/EngineeringReference1_5_TESTQAGPT4omini.json\"\n",
    ")"
   ]
  },
  {
   "cell_type": "code",
   "execution_count": 50,
   "id": "7cf76f4f-9981-4776-a58f-aacbdd63251c",
   "metadata": {},
   "outputs": [
    {
     "name": "stdout",
     "output_type": "stream",
     "text": [
      "len(responses) = 17\n"
     ]
    }
   ],
   "source": [
    "qlora_responses = get_responses(data_inputs, model, tokenizer)\n",
    "# print(f\"qlora_responses = {qlora_responses}\")\n",
    "print(\"len(responses) =\", len(qlora_responses))"
   ]
  },
  {
   "cell_type": "code",
   "execution_count": 52,
   "id": "78706950-87ae-44de-8559-bd7e21feaa5d",
   "metadata": {},
   "outputs": [
    {
     "name": "stdout",
     "output_type": "stream",
     "text": [
      "BLEU scores with fineturning: 0.01874575230814467\n",
      "ROUGE-1 scores r, p, f with fine-turning: 0.21158779129367364, 0.28866188361891365, 0.23175179195340884 \n",
      "\n",
      "ROUGE-2 scores r, p, f withfine-turning: 0.07875516405195064, 0.10242312095116685, 0.08308256067860777 \n",
      "\n",
      "ROUGE-l scores r, p, f with fine-turning: 0.17439872763402176, 0.23349866448510628, 0.18969093812784912 \n",
      "\n"
     ]
    },
    {
     "name": "stderr",
     "output_type": "stream",
     "text": [
      "Some weights of RobertaModel were not initialized from the model checkpoint at roberta-large and are newly initialized: ['roberta.pooler.dense.bias', 'roberta.pooler.dense.weight']\n",
      "You should probably TRAIN this model on a down-stream task to be able to use it for predictions and inference.\n"
     ]
    },
    {
     "name": "stdout",
     "output_type": "stream",
     "text": [
      "calculating scores...\n",
      "computing bert embedding.\n"
     ]
    },
    {
     "data": {
      "application/vnd.jupyter.widget-view+json": {
       "model_id": "14ee87a5b8d0444fae762969f3af458e",
       "version_major": 2,
       "version_minor": 0
      },
      "text/plain": [
       "  0%|          | 0/1 [00:00<?, ?it/s]"
      ]
     },
     "metadata": {},
     "output_type": "display_data"
    },
    {
     "name": "stdout",
     "output_type": "stream",
     "text": [
      "computing greedy matching.\n"
     ]
    },
    {
     "data": {
      "application/vnd.jupyter.widget-view+json": {
       "model_id": "10b6ebd162cf484bb4577d6cdaff6972",
       "version_major": 2,
       "version_minor": 0
      },
      "text/plain": [
       "  0%|          | 0/1 [00:00<?, ?it/s]"
      ]
     },
     "metadata": {},
     "output_type": "display_data"
    },
    {
     "name": "stdout",
     "output_type": "stream",
     "text": [
      "done in 0.14 seconds, 120.73 sentences/sec\n",
      "type(P): <class 'torch.Tensor'>\n",
      "\n",
      "BERTScore-Precision with fineturning: -0.3401145339012146\n",
      "\n",
      "\n",
      "BERTScore-Recall with fineturning: 0.006081688217818737\n",
      "\n",
      "BERTScore-F-Measure with fineturning: -0.17519478499889374\n"
     ]
    }
   ],
   "source": [
    "save_results_csv(\"/srv/data1/fuxiaoqin/Results_LM32_1B_QA_QLoRA.csv\", data_instructions, data_inputs, data_outputs, qlora_responses)\n",
    "compute_save_metrics(references, qlora_responses, \"/srv/data1/fuxiaoqin/Metrics_LM32_1B_QA_QLoRA.csv\",\"LM32_1B_QLoRA\")"
   ]
  },
  {
   "cell_type": "code",
   "execution_count": 53,
   "id": "0bb75c63-25d6-44c8-a08d-d3f1cc33512c",
   "metadata": {},
   "outputs": [],
   "source": [
    "#  Comparing fine-tuning Llama 3.2 1B with LoRA and QLoRA \n",
    "\n",
    "import pandas as pd\n",
    "import numpy as np\n",
    "import matplotlib.pyplot as plt\n",
    "\n",
    "def dataFromCSV(file_name):\n",
    "    df = pd.read_csv(file_name)\n",
    "    data = df.iloc[1].to_frame()\n",
    "    # Clean data\n",
    "    data = data.replace('Not Available', 0)\n",
    "    data.fillna(0)\n",
    "    data = data.replace(np.nan, 0, regex=True)\n",
    "    index = ['Model', 'BLEU', 'ROUGE_1_r', 'ROUGE_1_p', 'ROUGE_1_f', 'ROUGE_2_r', 'ROUGE_2_p', 'ROUGE_2_f', 'ROUGE_L_r', 'ROUGE_L_p', 'ROUGE_L_f', 'BERT_R', 'BERT_P', 'BERT_F1', 'Fine-Tuning_Time']\n",
    "    data.index = index\n",
    "    data = data.drop(index=[\"Model\", \"Fine-Tuning_Time\"])\n",
    "    # print(f\"data = {data}\")\n",
    "    return data\n",
    "\n",
    "def compare2CSV(file1, file2):\n",
    "    metrics1 =  dataFromCSV(file1)\n",
    "    metrics2 =  dataFromCSV(file2)\n",
    "    # metrics12  =  metrics1.join(metrics2, lsuffix='LoRA', rsuffix='QLoRA')\n",
    "    metrics1.columns = ['LoRA']\n",
    "    metrics2.columns = ['QLoRA']\n",
    "    metrics12 = metrics1.join(metrics2)\n",
    "    metrics12 = metrics12.reset_index()\n",
    "    metrics12 = metrics12.rename(columns={\"index\": \"Metric\"})\n",
    "\n",
    "    metrics12['LoRA'] = pd.to_numeric(metrics12['LoRA'], errors='coerce')\n",
    "    metrics12['QLoRA'] = pd.to_numeric(metrics12['QLoRA'], errors='coerce')\n",
    "    # print(f\"metrics12 = {metrics12}\")\n",
    "\n",
    "    plt.figure(figsize=(20, 8))\n",
    "\n",
    "    # Set the positions of the bars on the x-axis\n",
    "    x_range = range(len(metrics12))\n",
    "\n",
    "    bar_width = 0.35  # Bar width to allow space between the two bars\n",
    "    bar_width = 0.35  # Bar width to allow space between the two bars\n",
    "    bars_lora = plt.bar([i - bar_width / 2 for i in x_range], metrics12['LoRA'], width=bar_width, label='LoRA', color='blue', alpha=0.7)\n",
    "    bars_qlora = plt.bar([i + bar_width / 2 for i in x_range], metrics12['QLoRA'], width=bar_width, label='QLoRA', color='orange', alpha=0.7)\n",
    "\n",
    "    # Add value labels on each bar\n",
    "    for bar in bars_lora:\n",
    "        plt.text(bar.get_x() + bar.get_width() / 2, bar.get_height(), round(bar.get_height(), 2), ha='center', va='bottom')\n",
    "\n",
    "    for bar in bars_qlora:\n",
    "        plt.text(bar.get_x() + bar.get_width() / 2, bar.get_height(), round(bar.get_height(), 2), ha='center', va='bottom')\n",
    "\n",
    "    # Add labels and title\n",
    "    plt.xlabel('Metrics', fontsize=12)\n",
    "    plt.ylabel('Values', fontsize=12)\n",
    "    plt.title('Comparison of LoRA and QLoRA Fine-Tuning Llama 3.2 1B', fontsize=12)\n",
    "\n",
    "    # Set the x-tick labels to the metric names, rotating them for readability\n",
    "    plt.xticks(x_range, metrics12['Metric'], rotation=45)\n",
    "\n",
    "    # Add a legend to distinguish between LoRA and QLoRA bars\n",
    "    plt.legend()\n",
    "\n",
    "    # Display the plot with a tight layout to avoid clipping\n",
    "    plt.tight_layout()\n",
    "\n",
    "    # Show the plot\n",
    "    plt.show()"
   ]
  },
  {
   "cell_type": "code",
   "execution_count": 54,
   "id": "38058593-f5e9-42bf-97bf-ccdd83afc1a1",
   "metadata": {},
   "outputs": [
    {
     "data": {
      "image/png": "[encoded data removed]",
      "text/plain": [
       "<Figure size 2000x800 with 1 Axes>"
      ]
     },
     "metadata": {},
     "output_type": "display_data"
    }
   ],
   "source": [
    "compare2CSV(\"/srv/data1/fuxiaoqin/Metrics_LM32_1B_QA_LoRA.csv\", \"/srv/data1/fuxiaoqin/Metrics_LM32_1B_QA_QLoRA.csv\")"
   ]
  },
  {
   "cell_type": "code",
   "execution_count": null,
   "id": "3ce459a2-5066-45e5-ab88-c9f0bfb5bb46",
   "metadata": {},
   "outputs": [],
   "source": []
  }
 ],
 "metadata": {
  "kernelspec": {
   "display_name": "py2",
   "language": "python",
   "name": "py2"
  },
  "language_info": {
   "codemirror_mode": {
    "name": "ipython",
    "version": 3
   },
   "file_extension": ".py",
   "mimetype": "text/x-python",
   "name": "python",
   "nbconvert_exporter": "python",
   "pygments_lexer": "ipython3",
   "version": "3.12.9"
  }
 },
 "nbformat": 4,
 "nbformat_minor": 5
}
