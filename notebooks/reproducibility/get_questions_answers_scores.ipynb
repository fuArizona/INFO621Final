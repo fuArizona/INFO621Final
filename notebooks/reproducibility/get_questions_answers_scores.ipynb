{
 "cells": [
  {
   "cell_type": "code",
   "execution_count": 5,
   "id": "b19331e3",
   "metadata": {},
   "outputs": [],
   "source": [
    "import pandas as pd \n",
    "def get_qas_from_csv(input_file):\n",
    "    df = pd.read_csv(input_file)   \n",
    "    df = df.iloc[:-1]\n",
    "    return df['Input'].tolist(), df['Output'].tolist(), df['Predicted'].tolist(), df['Score'].tolist()  "
   ]
  },
  {
   "cell_type": "code",
   "execution_count": null,
   "id": "3ea84633",
   "metadata": {},
   "outputs": [],
   "source": [
    "# Get the questions, answers, and scores from the CSV files\n",
    "def get_LM_qas(default_score_file, lora_score_file, qlora_score_file):\n",
    "    inputs, outputs, default_answers, default_scores = get_qas_from_csv(default_score_file)\n",
    "    inputs, outputs, lora_answers, lora_scores = get_qas_from_csv(lora_score_file)\n",
    "    inputs, outputs, qlora_answers, qlora_scores = get_qas_from_csv(qlora_score_file)\n",
    "    print(f\"len(questions): {len(inputs)}\")\n",
    "    # print(f\"questions: {questions}\")\n",
    "    print(f\"len(default_answers): {len(default_answers)}\")\n",
    "    print(f\"len(default_scores): {len(default_answers)}\")\n",
    "    print(f\"len(lora_answers): {len(lora_answers)}\")\n",
    "    print(f\"len(lora_scores): {len(lora_scores)}\")\n",
    "    print(f\"len(qlora_answers): {len(qlora_answers)}\")\n",
    "    print(f\"len(qlora_scores): {len(qlora_scores)}\")\n",
    "    return inputs, outputs, default_answers, default_scores, lora_answers, lora_scores, qlora_answers, qlora_scores"
   ]
  },
  {
   "cell_type": "code",
   "execution_count": null,
   "id": "74fc6e93",
   "metadata": {},
   "outputs": [
    {
     "name": "stdout",
     "output_type": "stream",
     "text": [
      "len(questions): 17\n",
      "len(default_answers): 17\n",
      "len(default_scores): 17\n",
      "len(lora_answers): 17\n",
      "len(lora_scores): 17\n",
      "len(qlora_answers): 17\n",
      "len(qlora_scores): 17\n",
      "len(questions): 17\n",
      "len(default_answers): 17\n",
      "len(default_scores): 17\n",
      "len(lora_answers): 17\n",
      "len(lora_scores): 17\n",
      "len(qlora_answers): 17\n",
      "len(qlora_scores): 17\n"
     ]
    }
   ],
   "source": [
    "# Get the questions, answers, and scores of Llama 3.2 1B models fine-tuned based on LoRA and QLoRA from the CSV files\n",
    "questions, expected_answers, default_answers_1B, default_scores_1B, lora_answers_1B, lora_scores_1B, qlora_answers_1B, qlora_scores_1B = get_LM_qas(\"../../experiments/Results_LM32_1B_Before_Scores_1.csv\", \"../../experiments/Results_LM32_1B_QA_LoRA_Scores_1.csv\", \"../../experiments/Results_LM32_1B_QA_QLoRA_Scores_1.csv\")\n",
    "# Get the questions, answers, and scores of Llama 3.2 3B models fine-tuned based on LoRA and QLoRA from the CSV files\n",
    "questions, expected_answers, default_answers_3B, default_scores_3B, lora_answers_3B, lora_scores_3B, qlora_answers_3B, qlora_scores_3B = get_LM_qas(\"../../experiments/Results_LM32_3B_Before_Scores_1.csv\", \"../../experiments/Results_LM32_3B_QA_LoRA_Scores_1.csv\", \"../../experiments/Results_LM32_3B_QA_QLoRA_Scores_1.csv\")\n",
    "\n",
    "\n"
   ]
  },
  {
   "cell_type": "code",
   "execution_count": null,
   "id": "db1eed14",
   "metadata": {},
   "outputs": [],
   "source": [
    "# Save the questions, answers, and scores of Llama 3.2 1B and 3B models fine-tuned based on LoRA and QLoRA to a CSV file\n",
    "def save_qas_to_csv(output_file):\n",
    "    df = pd.DataFrame({\n",
    "        'Question': questions,\n",
    "        'Expected Answer': expected_answers,       \n",
    "\n",
    "        '1B Default Score': default_scores_1B,\n",
    "        '1B Default Answer': default_answers_1B,      \n",
    "        '1B LoRA Score': lora_answers_1B,\n",
    "        '1B LoRA Answer': lora_scores_1B,         \n",
    "        '1B QLoRA Score': qlora_answers_1B,\n",
    "        '1B QLoRA Answer': qlora_scores_1B,    \n",
    "\n",
    "        '3B Default Score': default_scores_3B,\n",
    "        '3B Default Answer': default_answers_3B,      \n",
    "        '3B LoRA Score': lora_answers_3B,\n",
    "        '3B LoRA Answer': lora_scores_3B,         \n",
    "        '3B QLoRA Score': qlora_answers_3B,\n",
    "        '3B QLoRA Answer': qlora_scores_3B,   \n",
    "    })\n",
    "    df.to_csv(output_file, index=False)\n",
    "    print(f\"Saved to {output_file}\")"
   ]
  },
  {
   "cell_type": "code",
   "execution_count": 12,
   "id": "5675a522",
   "metadata": {},
   "outputs": [
    {
     "name": "stdout",
     "output_type": "stream",
     "text": [
      "Saved to ../../experiments/QAS_1B3B.csv\n"
     ]
    }
   ],
   "source": [
    "import pandas as pd\n",
    "\n",
    "save_qas_to_csv(\"../../experiments/QAS_1B3B.csv\")"
   ]
  }
 ],
 "metadata": {
  "kernelspec": {
   "display_name": "py312",
   "language": "python",
   "name": "py312"
  },
  "language_info": {
   "codemirror_mode": {
    "name": "ipython",
    "version": 3
   },
   "file_extension": ".py",
   "mimetype": "text/x-python",
   "name": "python",
   "nbconvert_exporter": "python",
   "pygments_lexer": "ipython3",
   "version": "3.12.5"
  }
 },
 "nbformat": 4,
 "nbformat_minor": 5
}
